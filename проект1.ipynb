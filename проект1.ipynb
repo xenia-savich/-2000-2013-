{
 "cells": [
  {
   "cell_type": "markdown",
   "id": "e06910dd",
   "metadata": {
    "id": "e06910dd"
   },
   "source": [
    "# Изучение развития игровой индустрии с 2000 по 2013 год\n",
    "\n",
    "- Автор: Савич Ксения\n",
    "- Дата:06.04.2025"
   ]
  },
  {
   "cell_type": "markdown",
   "id": "4149134c",
   "metadata": {
    "id": "4149134c"
   },
   "source": [
    "### Цели и задачи проекта\n",
    "- изучить развитие игровой индустрии с 2000 по 2013 год\n",
    "- категоризовать игры по оценкам пользователей и экспертов\n",
    "- вывести топ-7 платформ по количеству игр, выпущенных в данном периоде"
   ]
  },
  {
   "cell_type": "markdown",
   "id": "728986ea",
   "metadata": {
    "id": "728986ea"
   },
   "source": [
    "### Описание данных\n",
    "\n",
    "Данные /datasets/new_games.csv содержат информацию о продажах игр разных жанров и платформ, а также пользовательские и экспертные оценки игр:\n",
    "- `Name` — название игры.\n",
    "- `Platform` — название платформы.\n",
    "- `Year of Release` — год выпуска игры.\n",
    "- `Genre` — жанр игры.\n",
    "- `NA sales` — продажи в Северной Америке (в миллионах проданных копий).\n",
    "- `EU sales` — продажи в Европе (в миллионах проданных копий).\n",
    "- `JP sales` — продажи в Японии (в миллионах проданных копий).\n",
    "- `Other sales` — продажи в других странах (в миллионах проданных копий).\n",
    "- `Critic Score` — оценка критиков (от 0 до 100).\n",
    "- `User Score` — оценка пользователей (от 0 до 10).\n",
    "- `Rating` — рейтинг организации ESRB (англ. Entertainment Software Rating Board). Эта ассоциация определяет рейтинг компьютерных игр и присваивает им подходящую возрастную категорию."
   ]
  },
  {
   "cell_type": "markdown",
   "id": "4fecaf95",
   "metadata": {
    "id": "4fecaf95"
   },
   "source": [
    "### Содержимое проекта\n",
    "1. Загрузка данных и знакомство с ними\n",
    "2. Проверка ошибок в данных и их предобработка\n",
    "3. Фильтрация данных\n",
    "4. Категоризация данных\n",
    "5. Выводы\n",
    "---"
   ]
  },
  {
   "cell_type": "markdown",
   "id": "6f7d21d6",
   "metadata": {
    "id": "6f7d21d6"
   },
   "source": [
    "## 1. Загрузка данных и знакомство с ними\n",
    "\n",
    "- На данном этапе выгружаем необходимые библиотеки Python и данные датасета `/datasets/new_games.csv`. Затем изучаем данные при помощи методов `info()` и `head()`.\n"
   ]
  },
  {
   "cell_type": "code",
   "execution_count": 132,
   "id": "ebb66dc5",
   "metadata": {
    "id": "ebb66dc5"
   },
   "outputs": [],
   "source": [
    "# Загружаем библиотеку pandas для дальнешей работы над данными и даем ей наименование \"pd\"\n",
    "import pandas as pd"
   ]
  },
  {
   "cell_type": "code",
   "execution_count": 133,
   "id": "ce87c1db",
   "metadata": {
    "id": "ce87c1db"
   },
   "outputs": [],
   "source": [
    "# Выгружаем данные датасета и даем ему наименование \"df\"\n",
    "df = pd.read_csv('/datasets/new_games.csv')"
   ]
  },
  {
   "cell_type": "code",
   "execution_count": 134,
   "id": "3937acf7",
   "metadata": {
    "id": "3937acf7"
   },
   "outputs": [
    {
     "name": "stdout",
     "output_type": "stream",
     "text": [
      "<class 'pandas.core.frame.DataFrame'>\n",
      "RangeIndex: 16956 entries, 0 to 16955\n",
      "Data columns (total 11 columns):\n",
      " #   Column           Non-Null Count  Dtype  \n",
      "---  ------           --------------  -----  \n",
      " 0   Name             16954 non-null  object \n",
      " 1   Platform         16956 non-null  object \n",
      " 2   Year of Release  16681 non-null  float64\n",
      " 3   Genre            16954 non-null  object \n",
      " 4   NA sales         16956 non-null  float64\n",
      " 5   EU sales         16956 non-null  object \n",
      " 6   JP sales         16956 non-null  object \n",
      " 7   Other sales      16956 non-null  float64\n",
      " 8   Critic Score     8242 non-null   float64\n",
      " 9   User Score       10152 non-null  object \n",
      " 10  Rating           10085 non-null  object \n",
      "dtypes: float64(4), object(7)\n",
      "memory usage: 1.4+ MB\n"
     ]
    }
   ],
   "source": [
    "#Знакомимся с данными при помощи метода info()\n",
    "df.info()"
   ]
  },
  {
   "cell_type": "code",
   "execution_count": 135,
   "id": "d7c8eb4b",
   "metadata": {
    "id": "d7c8eb4b"
   },
   "outputs": [
    {
     "data": {
      "text/html": [
       "<div>\n",
       "<style scoped>\n",
       "    .dataframe tbody tr th:only-of-type {\n",
       "        vertical-align: middle;\n",
       "    }\n",
       "\n",
       "    .dataframe tbody tr th {\n",
       "        vertical-align: top;\n",
       "    }\n",
       "\n",
       "    .dataframe thead th {\n",
       "        text-align: right;\n",
       "    }\n",
       "</style>\n",
       "<table border=\"1\" class=\"dataframe\">\n",
       "  <thead>\n",
       "    <tr style=\"text-align: right;\">\n",
       "      <th></th>\n",
       "      <th>Name</th>\n",
       "      <th>Platform</th>\n",
       "      <th>Year of Release</th>\n",
       "      <th>Genre</th>\n",
       "      <th>NA sales</th>\n",
       "      <th>EU sales</th>\n",
       "      <th>JP sales</th>\n",
       "      <th>Other sales</th>\n",
       "      <th>Critic Score</th>\n",
       "      <th>User Score</th>\n",
       "      <th>Rating</th>\n",
       "    </tr>\n",
       "  </thead>\n",
       "  <tbody>\n",
       "    <tr>\n",
       "      <th>0</th>\n",
       "      <td>Wii Sports</td>\n",
       "      <td>Wii</td>\n",
       "      <td>2006.0</td>\n",
       "      <td>Sports</td>\n",
       "      <td>41.36</td>\n",
       "      <td>28.96</td>\n",
       "      <td>3.77</td>\n",
       "      <td>8.45</td>\n",
       "      <td>76.0</td>\n",
       "      <td>8</td>\n",
       "      <td>E</td>\n",
       "    </tr>\n",
       "    <tr>\n",
       "      <th>1</th>\n",
       "      <td>Super Mario Bros.</td>\n",
       "      <td>NES</td>\n",
       "      <td>1985.0</td>\n",
       "      <td>Platform</td>\n",
       "      <td>29.08</td>\n",
       "      <td>3.58</td>\n",
       "      <td>6.81</td>\n",
       "      <td>0.77</td>\n",
       "      <td>NaN</td>\n",
       "      <td>NaN</td>\n",
       "      <td>NaN</td>\n",
       "    </tr>\n",
       "    <tr>\n",
       "      <th>2</th>\n",
       "      <td>Mario Kart Wii</td>\n",
       "      <td>Wii</td>\n",
       "      <td>2008.0</td>\n",
       "      <td>Racing</td>\n",
       "      <td>15.68</td>\n",
       "      <td>12.76</td>\n",
       "      <td>3.79</td>\n",
       "      <td>3.29</td>\n",
       "      <td>82.0</td>\n",
       "      <td>8.3</td>\n",
       "      <td>E</td>\n",
       "    </tr>\n",
       "    <tr>\n",
       "      <th>3</th>\n",
       "      <td>Wii Sports Resort</td>\n",
       "      <td>Wii</td>\n",
       "      <td>2009.0</td>\n",
       "      <td>Sports</td>\n",
       "      <td>15.61</td>\n",
       "      <td>10.93</td>\n",
       "      <td>3.28</td>\n",
       "      <td>2.95</td>\n",
       "      <td>80.0</td>\n",
       "      <td>8</td>\n",
       "      <td>E</td>\n",
       "    </tr>\n",
       "    <tr>\n",
       "      <th>4</th>\n",
       "      <td>Pokemon Red/Pokemon Blue</td>\n",
       "      <td>GB</td>\n",
       "      <td>1996.0</td>\n",
       "      <td>Role-Playing</td>\n",
       "      <td>11.27</td>\n",
       "      <td>8.89</td>\n",
       "      <td>10.22</td>\n",
       "      <td>1.00</td>\n",
       "      <td>NaN</td>\n",
       "      <td>NaN</td>\n",
       "      <td>NaN</td>\n",
       "    </tr>\n",
       "  </tbody>\n",
       "</table>\n",
       "</div>"
      ],
      "text/plain": [
       "                       Name Platform  Year of Release         Genre  NA sales  \\\n",
       "0                Wii Sports      Wii           2006.0        Sports     41.36   \n",
       "1         Super Mario Bros.      NES           1985.0      Platform     29.08   \n",
       "2            Mario Kart Wii      Wii           2008.0        Racing     15.68   \n",
       "3         Wii Sports Resort      Wii           2009.0        Sports     15.61   \n",
       "4  Pokemon Red/Pokemon Blue       GB           1996.0  Role-Playing     11.27   \n",
       "\n",
       "  EU sales JP sales  Other sales  Critic Score User Score Rating  \n",
       "0    28.96     3.77         8.45          76.0          8      E  \n",
       "1     3.58     6.81         0.77           NaN        NaN    NaN  \n",
       "2    12.76     3.79         3.29          82.0        8.3      E  \n",
       "3    10.93     3.28         2.95          80.0          8      E  \n",
       "4     8.89    10.22         1.00           NaN        NaN    NaN  "
      ]
     },
     "execution_count": 135,
     "metadata": {},
     "output_type": "execute_result"
    }
   ],
   "source": [
    "# Выводим первые строки данных при помощи метода head()\n",
    "df.head()"
   ]
  },
  {
   "cell_type": "markdown",
   "id": "26267bc0",
   "metadata": {
    "id": "26267bc0"
   },
   "source": [
    "Выводы после знакомства с данными:\n",
    "- данные представляют собой 11 столбцов и 16956 строк\n",
    "- типы данных float64 и object\n",
    "- в столбцах `Name`, `Year of Release`, `Genre`, `Critic Score`, `User Score`, `Rating` есть пропуски(более чем в половине столбцов). В столбце `Critic Score` отсутсвует более половины данных\n",
    "- названия в данных не приведены к языку snake case, что в дальнейшем следует исправить\n",
    "- столбцы `EU sales`, `JP sales` и `User Score` следует привести к типу данных float64, так как они представляют собой числа и так с ними можно будет выполнять математичексие операции. Столбец `Year of Release` не выйдет привести к типу данных datetime64, т к данные представлены в виде года. Приведем столбцы `Year of Release` и `Critic Score` к типу данных int64."
   ]
  },
  {
   "cell_type": "markdown",
   "id": "774bf76e",
   "metadata": {
    "id": "774bf76e"
   },
   "source": [
    "---\n",
    "\n",
    "## 2.  Проверка ошибок в данных и их предобработка\n",
    "\n",
    "\n",
    "### 2.1. Названия, или метки, столбцов датафрейма\n",
    "\n",
    "В данной части проекта приведем названия стобцов к snake case(заменим пробелы нижними подчеркиваниями и приведем все к нижнему регистру)."
   ]
  },
  {
   "cell_type": "code",
   "execution_count": 136,
   "id": "b9276a2b",
   "metadata": {
    "id": "b9276a2b"
   },
   "outputs": [
    {
     "data": {
      "text/plain": [
       "Index(['Name', 'Platform', 'Year of Release', 'Genre', 'NA sales', 'EU sales',\n",
       "       'JP sales', 'Other sales', 'Critic Score', 'User Score', 'Rating'],\n",
       "      dtype='object')"
      ]
     },
     "execution_count": 136,
     "metadata": {},
     "output_type": "execute_result"
    }
   ],
   "source": [
    "# Выводим названия всех столбцов\n",
    "df.columns"
   ]
  },
  {
   "cell_type": "code",
   "execution_count": 137,
   "id": "d554563c",
   "metadata": {
    "id": "d554563c"
   },
   "outputs": [],
   "source": [
    "# Приводим названия столбцов к snake case\n",
    "df.columns = df.columns.str.lower().str.replace(' ', '_')"
   ]
  },
  {
   "cell_type": "markdown",
   "id": "41bc6bf8",
   "metadata": {
    "id": "41bc6bf8"
   },
   "source": [
    "### 2.2. Типы данных\n",
    "\n",
    "Преобразуем столбцы с неверным типом данных к верным."
   ]
  },
  {
   "cell_type": "code",
   "execution_count": 138,
   "id": "8adaac81",
   "metadata": {
    "id": "8adaac81"
   },
   "outputs": [],
   "source": [
    "# Приводим столбцы eu_sales, jp_sales и user_score к типу данных float64\n",
    "df['eu_sales'] = pd.to_numeric(df['eu_sales'], errors='coerce')\n",
    "df['jp_sales'] = pd.to_numeric(df['jp_sales'], errors='coerce')\n",
    "df['user_score'] = pd.to_numeric(df['user_score'], errors='coerce')\n",
    "df['year_of_release'] = pd.to_numeric(df['year_of_release'], errors='coerce')\n",
    "df['critic_score'] = df['critic_score'].astype('Int64')\n",
    "df['year_of_release'] = df['year_of_release'].astype('Int64')"
   ]
  },
  {
   "cell_type": "code",
   "execution_count": 139,
   "id": "9e53cff4",
   "metadata": {
    "id": "9e53cff4"
   },
   "outputs": [
    {
     "name": "stdout",
     "output_type": "stream",
     "text": [
      "<class 'pandas.core.frame.DataFrame'>\n",
      "RangeIndex: 16956 entries, 0 to 16955\n",
      "Data columns (total 11 columns):\n",
      " #   Column           Non-Null Count  Dtype  \n",
      "---  ------           --------------  -----  \n",
      " 0   name             16954 non-null  object \n",
      " 1   platform         16956 non-null  object \n",
      " 2   year_of_release  16681 non-null  Int64  \n",
      " 3   genre            16954 non-null  object \n",
      " 4   na_sales         16956 non-null  float64\n",
      " 5   eu_sales         16950 non-null  float64\n",
      " 6   jp_sales         16952 non-null  float64\n",
      " 7   other_sales      16956 non-null  float64\n",
      " 8   critic_score     8242 non-null   Int64  \n",
      " 9   user_score       7688 non-null   float64\n",
      " 10  rating           10085 non-null  object \n",
      "dtypes: Int64(2), float64(5), object(4)\n",
      "memory usage: 1.5+ MB\n"
     ]
    }
   ],
   "source": [
    "# Проверяем, что типы данных изменились\n",
    "df.info()"
   ]
  },
  {
   "cell_type": "markdown",
   "id": "b39893cb",
   "metadata": {
    "id": "b39893cb"
   },
   "source": [
    "### 2.3. Наличие пропусков в данных\n",
    "\n",
    "Считаем количество пропусков, анализируем их природу и очищаем данные от пропусков.\n"
   ]
  },
  {
   "cell_type": "code",
   "execution_count": 140,
   "id": "0f1c91a8",
   "metadata": {
    "id": "0f1c91a8"
   },
   "outputs": [
    {
     "data": {
      "text/plain": [
       "name                  2\n",
       "platform              0\n",
       "year_of_release     275\n",
       "genre                 2\n",
       "na_sales              0\n",
       "eu_sales              6\n",
       "jp_sales              4\n",
       "other_sales           0\n",
       "critic_score       8714\n",
       "user_score         9268\n",
       "rating             6871\n",
       "dtype: int64"
      ]
     },
     "execution_count": 140,
     "metadata": {},
     "output_type": "execute_result"
    }
   ],
   "source": [
    "# Подсчитываем количество пропусков в каждом столбце\n",
    "df.isna().sum()"
   ]
  },
  {
   "cell_type": "code",
   "execution_count": 141,
   "id": "86cd1cc1",
   "metadata": {
    "id": "86cd1cc1"
   },
   "outputs": [
    {
     "data": {
      "text/plain": [
       "name               0.000118\n",
       "platform           0.000000\n",
       "year_of_release    0.016218\n",
       "genre              0.000118\n",
       "na_sales           0.000000\n",
       "eu_sales           0.000354\n",
       "jp_sales           0.000236\n",
       "other_sales        0.000000\n",
       "critic_score       0.513918\n",
       "user_score         0.546591\n",
       "rating             0.405225\n",
       "dtype: float64"
      ]
     },
     "execution_count": 141,
     "metadata": {},
     "output_type": "execute_result"
    }
   ],
   "source": [
    "# Количество пропусков в относительных значениях\n",
    "df.isnull().mean()"
   ]
  },
  {
   "cell_type": "markdown",
   "id": "cf796f51",
   "metadata": {
    "id": "cf796f51"
   },
   "source": [
    "Выводы о пропусках:\n",
    "- Пропусков достаточно много, больше всего пропусков в столбцах с оценками, что легко объясняется тем, что конкретной игре могли просто не поставить оценок. Данные с оценками нужны и пропусков слишком много, поэтому пропуски необходимо заменить. Заменим значения индикатором, который не помешает дальнейшему анализу 101 и 11 соотвественно, т к у нас 100-балльная система и 10-балльная система в данных столбцах.\n",
    "- Пропуски в столбцах с именем и жанром случайны и их меньше процента, также эти столбцы не важны для дальнеших операций, поэтому данные пропуски можно проигнорировать.\n",
    "- Стобец с годом выхода важен для дальнейшего анализа, пропуски в нем составляют порядка 1,6%. В данном случае не выйдет заменить пропущенные знания, т к даты выяснить невозможно, а брать средние значения было бы некорректно. Пропуски в годе выхода необходимо удалить. \n",
    "- Пропуски с продажами в Японии и Европе можно заменить на среднее значение в зависимости от названия платформы и года выхода игры.\n",
    "- Пропусков в столбце с рейтингом много - 40%. Заменим их индикатором \"Unknown\".\n"
   ]
  },
  {
   "cell_type": "code",
   "execution_count": 142,
   "id": "cc2d1374",
   "metadata": {
    "id": "cc2d1374"
   },
   "outputs": [],
   "source": [
    "# Создадим копию нашего датасета, чтобы первоначальные данные остались в исходном виде\n",
    "# Это необходимо для анализа объема упраздненных данных\n",
    "df_copy = df.copy()"
   ]
  },
  {
   "cell_type": "code",
   "execution_count": 143,
   "id": "18459176",
   "metadata": {},
   "outputs": [],
   "source": [
    "# Удалим данные с пропусками в столбце year_of_release\n",
    "df_copy = df_copy.dropna(subset=['year_of_release'])"
   ]
  },
  {
   "cell_type": "code",
   "execution_count": 144,
   "id": "3f42817b",
   "metadata": {
    "id": "3f42817b"
   },
   "outputs": [],
   "source": [
    "# Создаем функцию для заполнения пропусков и заменяем пропуски в продажах средним значением по платформе и году выхода\n",
    "def fill_missing(group):\n",
    "    return group.fillna(group.mean())\n",
    "\n",
    "df_copy['eu_sales'] = df_copy.groupby(['platform', 'year_of_release'])['eu_sales'].apply(fill_missing)\n",
    "df_copy['jp_sales'] = df_copy.groupby(['platform', 'year_of_release'])['jp_sales'].apply(fill_missing)\n"
   ]
  },
  {
   "cell_type": "code",
   "execution_count": 145,
   "id": "1998531d",
   "metadata": {},
   "outputs": [],
   "source": [
    "# Заменим пропуски в оценках критиков и пользователей на индикаторы\n",
    "df_copy['user_score'] = df_copy['user_score'].fillna(11)\n",
    "df_copy['critic_score'] = df_copy['critic_score'].fillna(101)"
   ]
  },
  {
   "cell_type": "code",
   "execution_count": 146,
   "id": "fa3874f1",
   "metadata": {},
   "outputs": [],
   "source": [
    "# Замним пропуски в столбце rating на индикатор \"Unknown\"\n",
    "df_copy['rating'] = df_copy['rating'].fillna('Unknown')"
   ]
  },
  {
   "cell_type": "code",
   "execution_count": 147,
   "id": "809377d8",
   "metadata": {},
   "outputs": [
    {
     "name": "stdout",
     "output_type": "stream",
     "text": [
      "<class 'pandas.core.frame.DataFrame'>\n",
      "Int64Index: 16681 entries, 0 to 16955\n",
      "Data columns (total 11 columns):\n",
      " #   Column           Non-Null Count  Dtype  \n",
      "---  ------           --------------  -----  \n",
      " 0   name             16679 non-null  object \n",
      " 1   platform         16681 non-null  object \n",
      " 2   year_of_release  16681 non-null  Int64  \n",
      " 3   genre            16679 non-null  object \n",
      " 4   na_sales         16681 non-null  float64\n",
      " 5   eu_sales         16681 non-null  float64\n",
      " 6   jp_sales         16681 non-null  float64\n",
      " 7   other_sales      16681 non-null  float64\n",
      " 8   critic_score     16681 non-null  Int64  \n",
      " 9   user_score       16681 non-null  float64\n",
      " 10  rating           16681 non-null  object \n",
      "dtypes: Int64(2), float64(5), object(4)\n",
      "memory usage: 1.6+ MB\n"
     ]
    }
   ],
   "source": [
    "df_copy.info()"
   ]
  },
  {
   "cell_type": "code",
   "execution_count": 148,
   "id": "2f13514f",
   "metadata": {},
   "outputs": [
    {
     "data": {
      "text/html": [
       "<div>\n",
       "<style scoped>\n",
       "    .dataframe tbody tr th:only-of-type {\n",
       "        vertical-align: middle;\n",
       "    }\n",
       "\n",
       "    .dataframe tbody tr th {\n",
       "        vertical-align: top;\n",
       "    }\n",
       "\n",
       "    .dataframe thead th {\n",
       "        text-align: right;\n",
       "    }\n",
       "</style>\n",
       "<table border=\"1\" class=\"dataframe\">\n",
       "  <thead>\n",
       "    <tr style=\"text-align: right;\">\n",
       "      <th></th>\n",
       "      <th>name</th>\n",
       "      <th>platform</th>\n",
       "      <th>year_of_release</th>\n",
       "      <th>genre</th>\n",
       "      <th>na_sales</th>\n",
       "      <th>eu_sales</th>\n",
       "      <th>jp_sales</th>\n",
       "      <th>other_sales</th>\n",
       "      <th>critic_score</th>\n",
       "      <th>user_score</th>\n",
       "      <th>rating</th>\n",
       "    </tr>\n",
       "  </thead>\n",
       "  <tbody>\n",
       "    <tr>\n",
       "      <th>0</th>\n",
       "      <td>Wii Sports</td>\n",
       "      <td>Wii</td>\n",
       "      <td>2006</td>\n",
       "      <td>Sports</td>\n",
       "      <td>41.36</td>\n",
       "      <td>28.96</td>\n",
       "      <td>3.77</td>\n",
       "      <td>8.45</td>\n",
       "      <td>76</td>\n",
       "      <td>8.0</td>\n",
       "      <td>E</td>\n",
       "    </tr>\n",
       "    <tr>\n",
       "      <th>1</th>\n",
       "      <td>Super Mario Bros.</td>\n",
       "      <td>NES</td>\n",
       "      <td>1985</td>\n",
       "      <td>Platform</td>\n",
       "      <td>29.08</td>\n",
       "      <td>3.58</td>\n",
       "      <td>6.81</td>\n",
       "      <td>0.77</td>\n",
       "      <td>101</td>\n",
       "      <td>11.0</td>\n",
       "      <td>Unknown</td>\n",
       "    </tr>\n",
       "    <tr>\n",
       "      <th>2</th>\n",
       "      <td>Mario Kart Wii</td>\n",
       "      <td>Wii</td>\n",
       "      <td>2008</td>\n",
       "      <td>Racing</td>\n",
       "      <td>15.68</td>\n",
       "      <td>12.76</td>\n",
       "      <td>3.79</td>\n",
       "      <td>3.29</td>\n",
       "      <td>82</td>\n",
       "      <td>8.3</td>\n",
       "      <td>E</td>\n",
       "    </tr>\n",
       "    <tr>\n",
       "      <th>3</th>\n",
       "      <td>Wii Sports Resort</td>\n",
       "      <td>Wii</td>\n",
       "      <td>2009</td>\n",
       "      <td>Sports</td>\n",
       "      <td>15.61</td>\n",
       "      <td>10.93</td>\n",
       "      <td>3.28</td>\n",
       "      <td>2.95</td>\n",
       "      <td>80</td>\n",
       "      <td>8.0</td>\n",
       "      <td>E</td>\n",
       "    </tr>\n",
       "    <tr>\n",
       "      <th>4</th>\n",
       "      <td>Pokemon Red/Pokemon Blue</td>\n",
       "      <td>GB</td>\n",
       "      <td>1996</td>\n",
       "      <td>Role-Playing</td>\n",
       "      <td>11.27</td>\n",
       "      <td>8.89</td>\n",
       "      <td>10.22</td>\n",
       "      <td>1.00</td>\n",
       "      <td>101</td>\n",
       "      <td>11.0</td>\n",
       "      <td>Unknown</td>\n",
       "    </tr>\n",
       "  </tbody>\n",
       "</table>\n",
       "</div>"
      ],
      "text/plain": [
       "                       name platform  year_of_release         genre  na_sales  \\\n",
       "0                Wii Sports      Wii             2006        Sports     41.36   \n",
       "1         Super Mario Bros.      NES             1985      Platform     29.08   \n",
       "2            Mario Kart Wii      Wii             2008        Racing     15.68   \n",
       "3         Wii Sports Resort      Wii             2009        Sports     15.61   \n",
       "4  Pokemon Red/Pokemon Blue       GB             1996  Role-Playing     11.27   \n",
       "\n",
       "   eu_sales  jp_sales  other_sales  critic_score  user_score   rating  \n",
       "0     28.96      3.77         8.45            76         8.0        E  \n",
       "1      3.58      6.81         0.77           101        11.0  Unknown  \n",
       "2     12.76      3.79         3.29            82         8.3        E  \n",
       "3     10.93      3.28         2.95            80         8.0        E  \n",
       "4      8.89     10.22         1.00           101        11.0  Unknown  "
      ]
     },
     "execution_count": 148,
     "metadata": {},
     "output_type": "execute_result"
    }
   ],
   "source": [
    "df_copy.head()"
   ]
  },
  {
   "cell_type": "markdown",
   "id": "d196dbd2",
   "metadata": {},
   "source": [
    "Замена пропусков прошла успешно. Можно предположить, что оценок у этих игр действительно не было, т к при анализе первых строк, оказалось, что игры без оценок старые(например: Супер Марио 1985 года или Покемон 1996 года). Пропуски заменили на индикаторы, чтобы в дальнейшем анализе не было проблем в применении методов из-за пропусков."
   ]
  },
  {
   "cell_type": "markdown",
   "id": "b7ae4581",
   "metadata": {},
   "source": [
    "Заменили пропуски на значения 11 и 101. Оценки 10-ти и 100 балльные, поэтому в дальнейшем пропуски не войдут в категории оценок. Для поиска среднего и т д нам эти данные не нужны, поэтому индикаторы подобраны удачно для наших целей."
   ]
  },
  {
   "cell_type": "markdown",
   "id": "a63363fd",
   "metadata": {
    "id": "a63363fd"
   },
   "source": [
    "### 2.4. Явные и неявные дубликаты в данных\n",
    "\n",
    "Изучаем данные на предмет явных и неявных дубликатов, проводим очистку от дубликатов."
   ]
  },
  {
   "cell_type": "code",
   "execution_count": 149,
   "id": "491c9c39",
   "metadata": {
    "id": "491c9c39"
   },
   "outputs": [
    {
     "data": {
      "text/plain": [
       "179"
      ]
     },
     "execution_count": 149,
     "metadata": {},
     "output_type": "execute_result"
    }
   ],
   "source": [
    "#Выявляем количество дубликатов\n",
    "df_copy.duplicated().sum()"
   ]
  },
  {
   "cell_type": "code",
   "execution_count": 150,
   "id": "f1627198",
   "metadata": {
    "id": "f1627198"
   },
   "outputs": [
    {
     "name": "stdout",
     "output_type": "stream",
     "text": [
      "['Sports' 'Platform' 'Racing' 'Role-Playing' 'Puzzle' 'Misc' 'Shooter'\n",
      " 'Simulation' 'Action' 'Fighting' 'Adventure' 'Strategy' nan 'MISC'\n",
      " 'ROLE-PLAYING' 'RACING' 'ACTION' 'SHOOTER' 'FIGHTING' 'SPORTS' 'PLATFORM'\n",
      " 'ADVENTURE' 'SIMULATION' 'PUZZLE' 'STRATEGY']\n",
      "['Wii' 'NES' 'GB' 'DS' 'X360' 'PS3' 'PS2' 'SNES' 'GBA' 'PS4' '3DS' 'N64'\n",
      " 'PS' 'XB' 'PC' '2600' 'PSP' 'XOne' 'WiiU' 'GC' 'GEN' 'DC' 'PSV' 'SAT'\n",
      " 'SCD' 'WS' 'NG' 'TG16' '3DO' 'GG' 'PCFX']\n",
      "['E' 'Unknown' 'M' 'T' 'E10+' 'K-A' 'AO' 'EC' 'RP']\n",
      "<IntegerArray>\n",
      "[2006, 1985, 2008, 2009, 1996, 1989, 1984, 2005, 1999, 2007, 2010, 2013, 2004,\n",
      " 1990, 1988, 2002, 2001, 2011, 1998, 2015, 2012, 2014, 1992, 1997, 1993, 1994,\n",
      " 1982, 2016, 2003, 1986, 2000, 1995, 1991, 1981, 1987, 1980, 1983]\n",
      "Length: 37, dtype: Int64\n"
     ]
    }
   ],
   "source": [
    "# Проверяем дубликаты в названиях жанра, платформы, рейтинга, года выпуска\n",
    "print(df_copy['genre'].unique())\n",
    "print(df_copy['platform'].unique())\n",
    "print(df_copy['rating'].unique())\n",
    "print(df_copy['year_of_release'].unique())"
   ]
  },
  {
   "cell_type": "code",
   "execution_count": 151,
   "id": "9ac3c4a7",
   "metadata": {},
   "outputs": [
    {
     "data": {
      "text/html": [
       "<div>\n",
       "<style scoped>\n",
       "    .dataframe tbody tr th:only-of-type {\n",
       "        vertical-align: middle;\n",
       "    }\n",
       "\n",
       "    .dataframe tbody tr th {\n",
       "        vertical-align: top;\n",
       "    }\n",
       "\n",
       "    .dataframe thead th {\n",
       "        text-align: right;\n",
       "    }\n",
       "</style>\n",
       "<table border=\"1\" class=\"dataframe\">\n",
       "  <thead>\n",
       "    <tr style=\"text-align: right;\">\n",
       "      <th></th>\n",
       "      <th>name</th>\n",
       "      <th>platform</th>\n",
       "      <th>year_of_release</th>\n",
       "      <th>genre</th>\n",
       "      <th>na_sales</th>\n",
       "      <th>eu_sales</th>\n",
       "      <th>jp_sales</th>\n",
       "      <th>other_sales</th>\n",
       "      <th>critic_score</th>\n",
       "      <th>user_score</th>\n",
       "      <th>rating</th>\n",
       "    </tr>\n",
       "  </thead>\n",
       "  <tbody>\n",
       "    <tr>\n",
       "      <th>0</th>\n",
       "      <td>Wii Sports</td>\n",
       "      <td>Wii</td>\n",
       "      <td>2006</td>\n",
       "      <td>Sports</td>\n",
       "      <td>41.36</td>\n",
       "      <td>28.96</td>\n",
       "      <td>3.77</td>\n",
       "      <td>8.45</td>\n",
       "      <td>76</td>\n",
       "      <td>8.0</td>\n",
       "      <td>E</td>\n",
       "    </tr>\n",
       "    <tr>\n",
       "      <th>1</th>\n",
       "      <td>Super Mario Bros.</td>\n",
       "      <td>NES</td>\n",
       "      <td>1985</td>\n",
       "      <td>Platform</td>\n",
       "      <td>29.08</td>\n",
       "      <td>3.58</td>\n",
       "      <td>6.81</td>\n",
       "      <td>0.77</td>\n",
       "      <td>101</td>\n",
       "      <td>11.0</td>\n",
       "      <td>Unknown</td>\n",
       "    </tr>\n",
       "    <tr>\n",
       "      <th>2</th>\n",
       "      <td>Mario Kart Wii</td>\n",
       "      <td>Wii</td>\n",
       "      <td>2008</td>\n",
       "      <td>Racing</td>\n",
       "      <td>15.68</td>\n",
       "      <td>12.76</td>\n",
       "      <td>3.79</td>\n",
       "      <td>3.29</td>\n",
       "      <td>82</td>\n",
       "      <td>8.3</td>\n",
       "      <td>E</td>\n",
       "    </tr>\n",
       "    <tr>\n",
       "      <th>3</th>\n",
       "      <td>Wii Sports Resort</td>\n",
       "      <td>Wii</td>\n",
       "      <td>2009</td>\n",
       "      <td>Sports</td>\n",
       "      <td>15.61</td>\n",
       "      <td>10.93</td>\n",
       "      <td>3.28</td>\n",
       "      <td>2.95</td>\n",
       "      <td>80</td>\n",
       "      <td>8.0</td>\n",
       "      <td>E</td>\n",
       "    </tr>\n",
       "    <tr>\n",
       "      <th>4</th>\n",
       "      <td>Pokemon Red/Pokemon Blue</td>\n",
       "      <td>GB</td>\n",
       "      <td>1996</td>\n",
       "      <td>Role-Playing</td>\n",
       "      <td>11.27</td>\n",
       "      <td>8.89</td>\n",
       "      <td>10.22</td>\n",
       "      <td>1.00</td>\n",
       "      <td>101</td>\n",
       "      <td>11.0</td>\n",
       "      <td>Unknown</td>\n",
       "    </tr>\n",
       "  </tbody>\n",
       "</table>\n",
       "</div>"
      ],
      "text/plain": [
       "                       name platform  year_of_release         genre  na_sales  \\\n",
       "0                Wii Sports      Wii             2006        Sports     41.36   \n",
       "1         Super Mario Bros.      NES             1985      Platform     29.08   \n",
       "2            Mario Kart Wii      Wii             2008        Racing     15.68   \n",
       "3         Wii Sports Resort      Wii             2009        Sports     15.61   \n",
       "4  Pokemon Red/Pokemon Blue       GB             1996  Role-Playing     11.27   \n",
       "\n",
       "   eu_sales  jp_sales  other_sales  critic_score  user_score   rating  \n",
       "0     28.96      3.77         8.45            76         8.0        E  \n",
       "1      3.58      6.81         0.77           101        11.0  Unknown  \n",
       "2     12.76      3.79         3.29            82         8.3        E  \n",
       "3     10.93      3.28         2.95            80         8.0        E  \n",
       "4      8.89     10.22         1.00           101        11.0  Unknown  "
      ]
     },
     "execution_count": 151,
     "metadata": {},
     "output_type": "execute_result"
    }
   ],
   "source": [
    "df_copy.head()"
   ]
  },
  {
   "cell_type": "markdown",
   "id": "204dd6ae",
   "metadata": {
    "id": "a0cac80c"
   },
   "source": [
    "В столбце с жанром есть дубликаты, связанные с регистром. В других проверяемых столбцах дубликатов нет."
   ]
  },
  {
   "cell_type": "code",
   "execution_count": 152,
   "id": "fc5c91b5",
   "metadata": {
    "id": "fc5c91b5"
   },
   "outputs": [],
   "source": [
    "# Меняем регистр столбца с жанрами для устранения дубликатов\n",
    "df_copy['genre'] = df_copy['genre'].str.lower()"
   ]
  },
  {
   "cell_type": "code",
   "execution_count": 153,
   "id": "2f61e076",
   "metadata": {
    "id": "2f61e076"
   },
   "outputs": [
    {
     "name": "stdout",
     "output_type": "stream",
     "text": [
      "['sports' 'platform' 'racing' 'role-playing' 'puzzle' 'misc' 'shooter'\n",
      " 'simulation' 'action' 'fighting' 'adventure' 'strategy' nan]\n"
     ]
    }
   ],
   "source": [
    "# Проверяем столбец на дубликаты после очистки\n",
    "print(df_copy['genre'].unique())"
   ]
  },
  {
   "cell_type": "code",
   "execution_count": 154,
   "id": "29e57705",
   "metadata": {
    "id": "29e57705"
   },
   "outputs": [
    {
     "data": {
      "text/plain": [
       "235"
      ]
     },
     "execution_count": 154,
     "metadata": {},
     "output_type": "execute_result"
    }
   ],
   "source": [
    "# Смотрим, сколько осталось дубликатов в данных\n",
    "df_copy.duplicated().sum()"
   ]
  },
  {
   "cell_type": "markdown",
   "id": "54616bae",
   "metadata": {
    "id": "54616bae"
   },
   "source": [
    "Дубликатов стало больше, что говорит о наличии явных дубликатов"
   ]
  },
  {
   "cell_type": "code",
   "execution_count": 155,
   "id": "8548f894",
   "metadata": {
    "id": "8548f894"
   },
   "outputs": [
    {
     "name": "stdout",
     "output_type": "stream",
     "text": [
      "                                   name platform  year_of_release  \\\n",
      "15191                    Beyblade Burst      3DS             2016   \n",
      "15192                    Beyblade Burst      3DS             2016   \n",
      "15301                 11eyes: CrossOver     X360             2009   \n",
      "15302                 11eyes: CrossOver     X360             2009   \n",
      "4860   18 Wheeler: American Pro Trucker      PS2             2001   \n",
      "...                                 ...      ...              ...   \n",
      "2909   Yu-Gi-Oh! The Falsebound Kingdom       GC             2002   \n",
      "6695                      Zoo Resort 3D      3DS             2011   \n",
      "6696                      Zoo Resort 3D      3DS             2011   \n",
      "8156                 Zumba Fitness Rush     X360             2012   \n",
      "8157                 Zumba Fitness Rush     X360             2012   \n",
      "\n",
      "              genre  na_sales  eu_sales  jp_sales  other_sales  critic_score  \\\n",
      "15191  role-playing      0.00      0.00      0.03         0.00           101   \n",
      "15192  role-playing      0.00      0.00      0.03         0.00           101   \n",
      "15301     adventure      0.00      0.00      0.02         0.00           101   \n",
      "15302     adventure      0.00      0.00      0.02         0.00           101   \n",
      "4860         racing      0.20      0.15      0.00         0.05            61   \n",
      "...             ...       ...       ...       ...          ...           ...   \n",
      "2909       strategy      0.49      0.13      0.07         0.02           101   \n",
      "6695     simulation      0.11      0.09      0.03         0.02           101   \n",
      "6696     simulation      0.11      0.09      0.03         0.02           101   \n",
      "8156         sports      0.00      0.16      0.00         0.02            73   \n",
      "8157         sports      0.00      0.16      0.00         0.02            73   \n",
      "\n",
      "       user_score   rating  \n",
      "15191        11.0  Unknown  \n",
      "15192        11.0  Unknown  \n",
      "15301        11.0  Unknown  \n",
      "15302        11.0  Unknown  \n",
      "4860          5.7        E  \n",
      "...           ...      ...  \n",
      "2909         11.0  Unknown  \n",
      "6695         11.0        E  \n",
      "6696         11.0        E  \n",
      "8156          6.2     E10+  \n",
      "8157          6.2     E10+  \n",
      "\n",
      "[470 rows x 11 columns]\n"
     ]
    }
   ],
   "source": [
    "df_sorted = df_copy.sort_values(by=df_copy.columns.tolist())\n",
    "\n",
    "# Находим дубликаты\n",
    "duplicates = df_sorted[df_sorted.duplicated(keep=False)]\n",
    "print(duplicates)"
   ]
  },
  {
   "cell_type": "code",
   "execution_count": 156,
   "id": "327e55bb",
   "metadata": {
    "id": "327e55bb"
   },
   "outputs": [],
   "source": [
    "df_copy = df_copy.drop_duplicates()"
   ]
  },
  {
   "cell_type": "markdown",
   "id": "7d47c10f",
   "metadata": {
    "id": "0814c721"
   },
   "source": [
    "Итого мы удалили ровно 235 явных дубликатов. Ничего лишнего!"
   ]
  },
  {
   "cell_type": "markdown",
   "id": "c78d19f5",
   "metadata": {
    "id": "f9d8ee19"
   },
   "source": [
    "В процессе обработки данных от дубликатов и пропусков, мы удаляли данные. Посмотрим, сколько данных мы удалили в абсолютном и относительном значениях."
   ]
  },
  {
   "cell_type": "code",
   "execution_count": 157,
   "id": "3d7a9d8e",
   "metadata": {
    "id": "3d7a9d8e"
   },
   "outputs": [
    {
     "name": "stdout",
     "output_type": "stream",
     "text": [
      "Убрали строк 510, доля убранных строк в процентах 3.007784854918613\n"
     ]
    }
   ],
   "source": [
    "# Подсчитаем количество удаленных данных в абсолютном и в относительном значениях\n",
    "a = len(df) - len(df_copy)\n",
    "b = a/len(df)*100\n",
    "print(f'Убрали строк {a}, доля убранных строк в процентах {b}')"
   ]
  },
  {
   "cell_type": "markdown",
   "id": "8430933d",
   "metadata": {
    "id": "1e48a7ce"
   },
   "source": [
    "В процессе обработки данных, было удалено 510 строк, что составляет 3% от всех данных. Думаю, это приемлемое количество. Удалены были дубликанты и те пропуски, которые нельзя учитывать в исследовании. Остальные пропуски были заменены подходящими значениями, либо оставлены без изменений."
   ]
  },
  {
   "cell_type": "markdown",
   "id": "613f0eb0",
   "metadata": {
    "id": "613f0eb0"
   },
   "source": [
    "---\n",
    "\n",
    "## 3. Фильтрация данных\n",
    "\n",
    "Отберем данные за 2000-2013 годы. Для этого создадим новый датафрейм `df_actual`"
   ]
  },
  {
   "cell_type": "code",
   "execution_count": 158,
   "id": "2344916d",
   "metadata": {
    "id": "2344916d"
   },
   "outputs": [],
   "source": [
    "# Создадим новый датафрейм с данными за 2000-2013 год\n",
    "start_date = 2000.0\n",
    "end_date = 2013.0\n",
    "df_actual = df_copy[(df_copy['year_of_release'] >= start_date) & (df_copy['year_of_release'] <= end_date)]"
   ]
  },
  {
   "cell_type": "code",
   "execution_count": 159,
   "id": "44d7529f",
   "metadata": {
    "id": "44d7529f"
   },
   "outputs": [
    {
     "data": {
      "text/html": [
       "<div>\n",
       "<style scoped>\n",
       "    .dataframe tbody tr th:only-of-type {\n",
       "        vertical-align: middle;\n",
       "    }\n",
       "\n",
       "    .dataframe tbody tr th {\n",
       "        vertical-align: top;\n",
       "    }\n",
       "\n",
       "    .dataframe thead th {\n",
       "        text-align: right;\n",
       "    }\n",
       "</style>\n",
       "<table border=\"1\" class=\"dataframe\">\n",
       "  <thead>\n",
       "    <tr style=\"text-align: right;\">\n",
       "      <th></th>\n",
       "      <th>name</th>\n",
       "      <th>platform</th>\n",
       "      <th>year_of_release</th>\n",
       "      <th>genre</th>\n",
       "      <th>na_sales</th>\n",
       "      <th>eu_sales</th>\n",
       "      <th>jp_sales</th>\n",
       "      <th>other_sales</th>\n",
       "      <th>critic_score</th>\n",
       "      <th>user_score</th>\n",
       "      <th>rating</th>\n",
       "    </tr>\n",
       "  </thead>\n",
       "  <tbody>\n",
       "    <tr>\n",
       "      <th>0</th>\n",
       "      <td>Wii Sports</td>\n",
       "      <td>Wii</td>\n",
       "      <td>2006</td>\n",
       "      <td>sports</td>\n",
       "      <td>41.36</td>\n",
       "      <td>28.96</td>\n",
       "      <td>3.77</td>\n",
       "      <td>8.45</td>\n",
       "      <td>76</td>\n",
       "      <td>8.0</td>\n",
       "      <td>E</td>\n",
       "    </tr>\n",
       "    <tr>\n",
       "      <th>2</th>\n",
       "      <td>Mario Kart Wii</td>\n",
       "      <td>Wii</td>\n",
       "      <td>2008</td>\n",
       "      <td>racing</td>\n",
       "      <td>15.68</td>\n",
       "      <td>12.76</td>\n",
       "      <td>3.79</td>\n",
       "      <td>3.29</td>\n",
       "      <td>82</td>\n",
       "      <td>8.3</td>\n",
       "      <td>E</td>\n",
       "    </tr>\n",
       "    <tr>\n",
       "      <th>3</th>\n",
       "      <td>Wii Sports Resort</td>\n",
       "      <td>Wii</td>\n",
       "      <td>2009</td>\n",
       "      <td>sports</td>\n",
       "      <td>15.61</td>\n",
       "      <td>10.93</td>\n",
       "      <td>3.28</td>\n",
       "      <td>2.95</td>\n",
       "      <td>80</td>\n",
       "      <td>8.0</td>\n",
       "      <td>E</td>\n",
       "    </tr>\n",
       "    <tr>\n",
       "      <th>6</th>\n",
       "      <td>New Super Mario Bros.</td>\n",
       "      <td>DS</td>\n",
       "      <td>2006</td>\n",
       "      <td>platform</td>\n",
       "      <td>11.28</td>\n",
       "      <td>9.14</td>\n",
       "      <td>6.50</td>\n",
       "      <td>2.88</td>\n",
       "      <td>89</td>\n",
       "      <td>8.5</td>\n",
       "      <td>E</td>\n",
       "    </tr>\n",
       "    <tr>\n",
       "      <th>7</th>\n",
       "      <td>Wii Play</td>\n",
       "      <td>Wii</td>\n",
       "      <td>2006</td>\n",
       "      <td>misc</td>\n",
       "      <td>13.96</td>\n",
       "      <td>9.18</td>\n",
       "      <td>2.93</td>\n",
       "      <td>2.84</td>\n",
       "      <td>58</td>\n",
       "      <td>6.6</td>\n",
       "      <td>E</td>\n",
       "    </tr>\n",
       "  </tbody>\n",
       "</table>\n",
       "</div>"
      ],
      "text/plain": [
       "                    name platform  year_of_release     genre  na_sales  \\\n",
       "0             Wii Sports      Wii             2006    sports     41.36   \n",
       "2         Mario Kart Wii      Wii             2008    racing     15.68   \n",
       "3      Wii Sports Resort      Wii             2009    sports     15.61   \n",
       "6  New Super Mario Bros.       DS             2006  platform     11.28   \n",
       "7               Wii Play      Wii             2006      misc     13.96   \n",
       "\n",
       "   eu_sales  jp_sales  other_sales  critic_score  user_score rating  \n",
       "0     28.96      3.77         8.45            76         8.0      E  \n",
       "2     12.76      3.79         3.29            82         8.3      E  \n",
       "3     10.93      3.28         2.95            80         8.0      E  \n",
       "6      9.14      6.50         2.88            89         8.5      E  \n",
       "7      9.18      2.93         2.84            58         6.6      E  "
      ]
     },
     "execution_count": 159,
     "metadata": {},
     "output_type": "execute_result"
    }
   ],
   "source": [
    "#Проверяем начало нового датафрейма\n",
    "df_actual.head()"
   ]
  },
  {
   "cell_type": "markdown",
   "id": "b2e0230b",
   "metadata": {
    "id": "906577e8"
   },
   "source": [
    "Данные успешно отобраны. Проверили начало нового датафрейма методом `head()`"
   ]
  },
  {
   "cell_type": "markdown",
   "id": "d768a8ef",
   "metadata": {
    "id": "a6f10b01"
   },
   "source": [
    "\n",
    "## 4. Категоризация данных\n",
    "    \n",
    "Проведем категоризацию данных:\n",
    "- Разделим все игры по оценкам пользователей и выделим такие категории: высокая оценка (от 8 до 10 включительно), средняя оценка (от 3 до 8, не включая правую границу интервала) и низкая оценка (от 0 до 3, не включая правую границу интервала)."
   ]
  },
  {
   "cell_type": "code",
   "execution_count": 160,
   "id": "828c9241",
   "metadata": {},
   "outputs": [],
   "source": [
    "# Для корректной работы следующего кода создаю копию нового датарейма, так как предыдущий был срезом\n",
    "# данных и код работал некорректно\n",
    "df_fin = df_actual.copy()"
   ]
  },
  {
   "cell_type": "code",
   "execution_count": 161,
   "id": "3db87229",
   "metadata": {
    "id": "3db87229"
   },
   "outputs": [],
   "source": [
    "# Создаем столбец с категоризацией данных на основе оценок пользователей\n",
    "bins = [0, 3, 8, 10, 12]  # Определяем границы категорий\n",
    "labels = ['низкая оценка', 'средняя оценка', 'высокая оценка', 'нет оценки'] # Присваиваем категории\n",
    "df_fin.loc[:, 'user_score_category'] = pd.cut(df_fin['user_score'], bins=bins, labels=labels, right=False)\n",
    "# Благодаря right=False мы исключаем правую границу из интервала"
   ]
  },
  {
   "cell_type": "markdown",
   "id": "f8f34b40",
   "metadata": {
    "id": "f8f34b40"
   },
   "source": [
    "- Разделим все игры по оценкам критиков и выделим такие категории: высокая оценка (от 80 до 100 включительно), средняя оценка (от 30 до 80, не включая правую границу интервала) и низкая оценка (от 0 до 30, не включая правую границу интервала)."
   ]
  },
  {
   "cell_type": "code",
   "execution_count": 162,
   "id": "e3f7acb0",
   "metadata": {
    "id": "e3f7acb0"
   },
   "outputs": [],
   "source": [
    "# Создаем столбец с категоризацией данных на основе оценок критиков\n",
    "bins = [0, 30, 80, 100, 102]  # Определяем границы категорий\n",
    "labels = ['низкая оценка', 'средняя оценка', 'высокая оценка', 'нет оценки'] # Присваиваем категории\n",
    "df_fin.loc[:, 'critic_score_category'] = pd.cut(df_fin['critic_score'], bins=bins, labels=labels, right=False)\n",
    "# Благодаря right=False мы исключаем правую границу из интервала"
   ]
  },
  {
   "cell_type": "code",
   "execution_count": 165,
   "id": "88dcdf5f",
   "metadata": {},
   "outputs": [
    {
     "data": {
      "text/html": [
       "<div>\n",
       "<style scoped>\n",
       "    .dataframe tbody tr th:only-of-type {\n",
       "        vertical-align: middle;\n",
       "    }\n",
       "\n",
       "    .dataframe tbody tr th {\n",
       "        vertical-align: top;\n",
       "    }\n",
       "\n",
       "    .dataframe thead th {\n",
       "        text-align: right;\n",
       "    }\n",
       "</style>\n",
       "<table border=\"1\" class=\"dataframe\">\n",
       "  <thead>\n",
       "    <tr style=\"text-align: right;\">\n",
       "      <th></th>\n",
       "      <th>name</th>\n",
       "      <th>platform</th>\n",
       "      <th>year_of_release</th>\n",
       "      <th>genre</th>\n",
       "      <th>na_sales</th>\n",
       "      <th>eu_sales</th>\n",
       "      <th>jp_sales</th>\n",
       "      <th>other_sales</th>\n",
       "      <th>critic_score</th>\n",
       "      <th>user_score</th>\n",
       "      <th>rating</th>\n",
       "      <th>user_score_category</th>\n",
       "      <th>critic_score_category</th>\n",
       "    </tr>\n",
       "  </thead>\n",
       "  <tbody>\n",
       "    <tr>\n",
       "      <th>0</th>\n",
       "      <td>Wii Sports</td>\n",
       "      <td>Wii</td>\n",
       "      <td>2006</td>\n",
       "      <td>sports</td>\n",
       "      <td>41.36</td>\n",
       "      <td>28.96</td>\n",
       "      <td>3.77</td>\n",
       "      <td>8.45</td>\n",
       "      <td>76</td>\n",
       "      <td>8.0</td>\n",
       "      <td>E</td>\n",
       "      <td>высокая оценка</td>\n",
       "      <td>средняя оценка</td>\n",
       "    </tr>\n",
       "    <tr>\n",
       "      <th>2</th>\n",
       "      <td>Mario Kart Wii</td>\n",
       "      <td>Wii</td>\n",
       "      <td>2008</td>\n",
       "      <td>racing</td>\n",
       "      <td>15.68</td>\n",
       "      <td>12.76</td>\n",
       "      <td>3.79</td>\n",
       "      <td>3.29</td>\n",
       "      <td>82</td>\n",
       "      <td>8.3</td>\n",
       "      <td>E</td>\n",
       "      <td>высокая оценка</td>\n",
       "      <td>высокая оценка</td>\n",
       "    </tr>\n",
       "    <tr>\n",
       "      <th>3</th>\n",
       "      <td>Wii Sports Resort</td>\n",
       "      <td>Wii</td>\n",
       "      <td>2009</td>\n",
       "      <td>sports</td>\n",
       "      <td>15.61</td>\n",
       "      <td>10.93</td>\n",
       "      <td>3.28</td>\n",
       "      <td>2.95</td>\n",
       "      <td>80</td>\n",
       "      <td>8.0</td>\n",
       "      <td>E</td>\n",
       "      <td>высокая оценка</td>\n",
       "      <td>высокая оценка</td>\n",
       "    </tr>\n",
       "    <tr>\n",
       "      <th>6</th>\n",
       "      <td>New Super Mario Bros.</td>\n",
       "      <td>DS</td>\n",
       "      <td>2006</td>\n",
       "      <td>platform</td>\n",
       "      <td>11.28</td>\n",
       "      <td>9.14</td>\n",
       "      <td>6.50</td>\n",
       "      <td>2.88</td>\n",
       "      <td>89</td>\n",
       "      <td>8.5</td>\n",
       "      <td>E</td>\n",
       "      <td>высокая оценка</td>\n",
       "      <td>высокая оценка</td>\n",
       "    </tr>\n",
       "    <tr>\n",
       "      <th>7</th>\n",
       "      <td>Wii Play</td>\n",
       "      <td>Wii</td>\n",
       "      <td>2006</td>\n",
       "      <td>misc</td>\n",
       "      <td>13.96</td>\n",
       "      <td>9.18</td>\n",
       "      <td>2.93</td>\n",
       "      <td>2.84</td>\n",
       "      <td>58</td>\n",
       "      <td>6.6</td>\n",
       "      <td>E</td>\n",
       "      <td>средняя оценка</td>\n",
       "      <td>средняя оценка</td>\n",
       "    </tr>\n",
       "  </tbody>\n",
       "</table>\n",
       "</div>"
      ],
      "text/plain": [
       "                    name platform  year_of_release     genre  na_sales  \\\n",
       "0             Wii Sports      Wii             2006    sports     41.36   \n",
       "2         Mario Kart Wii      Wii             2008    racing     15.68   \n",
       "3      Wii Sports Resort      Wii             2009    sports     15.61   \n",
       "6  New Super Mario Bros.       DS             2006  platform     11.28   \n",
       "7               Wii Play      Wii             2006      misc     13.96   \n",
       "\n",
       "   eu_sales  jp_sales  other_sales  critic_score  user_score rating  \\\n",
       "0     28.96      3.77         8.45            76         8.0      E   \n",
       "2     12.76      3.79         3.29            82         8.3      E   \n",
       "3     10.93      3.28         2.95            80         8.0      E   \n",
       "6      9.14      6.50         2.88            89         8.5      E   \n",
       "7      9.18      2.93         2.84            58         6.6      E   \n",
       "\n",
       "  user_score_category critic_score_category  \n",
       "0      высокая оценка        средняя оценка  \n",
       "2      высокая оценка        высокая оценка  \n",
       "3      высокая оценка        высокая оценка  \n",
       "6      высокая оценка        высокая оценка  \n",
       "7      средняя оценка        средняя оценка  "
      ]
     },
     "execution_count": 165,
     "metadata": {},
     "output_type": "execute_result"
    }
   ],
   "source": [
    "df_fin.head()"
   ]
  },
  {
   "cell_type": "code",
   "execution_count": 164,
   "id": "548fde17",
   "metadata": {
    "id": "548fde17"
   },
   "outputs": [
    {
     "data": {
      "text/html": [
       "<div>\n",
       "<style scoped>\n",
       "    .dataframe tbody tr th:only-of-type {\n",
       "        vertical-align: middle;\n",
       "    }\n",
       "\n",
       "    .dataframe tbody tr th {\n",
       "        vertical-align: top;\n",
       "    }\n",
       "\n",
       "    .dataframe thead th {\n",
       "        text-align: right;\n",
       "    }\n",
       "</style>\n",
       "<table border=\"1\" class=\"dataframe\">\n",
       "  <thead>\n",
       "    <tr style=\"text-align: right;\">\n",
       "      <th></th>\n",
       "      <th>name</th>\n",
       "      <th>platform</th>\n",
       "      <th>year_of_release</th>\n",
       "      <th>genre</th>\n",
       "      <th>na_sales</th>\n",
       "      <th>eu_sales</th>\n",
       "      <th>jp_sales</th>\n",
       "      <th>other_sales</th>\n",
       "      <th>critic_score</th>\n",
       "      <th>user_score</th>\n",
       "      <th>rating</th>\n",
       "      <th>user_score_category</th>\n",
       "      <th>critic_score_category</th>\n",
       "    </tr>\n",
       "  </thead>\n",
       "  <tbody>\n",
       "    <tr>\n",
       "      <th>16947</th>\n",
       "      <td>Men in Black II: Alien Escape</td>\n",
       "      <td>GC</td>\n",
       "      <td>2003</td>\n",
       "      <td>shooter</td>\n",
       "      <td>0.01</td>\n",
       "      <td>0.00</td>\n",
       "      <td>0.0</td>\n",
       "      <td>0.0</td>\n",
       "      <td>101</td>\n",
       "      <td>11.0</td>\n",
       "      <td>T</td>\n",
       "      <td>нет оценки</td>\n",
       "      <td>нет оценки</td>\n",
       "    </tr>\n",
       "    <tr>\n",
       "      <th>16949</th>\n",
       "      <td>Woody Woodpecker in Crazy Castle 5</td>\n",
       "      <td>GBA</td>\n",
       "      <td>2002</td>\n",
       "      <td>platform</td>\n",
       "      <td>0.01</td>\n",
       "      <td>0.00</td>\n",
       "      <td>0.0</td>\n",
       "      <td>0.0</td>\n",
       "      <td>101</td>\n",
       "      <td>11.0</td>\n",
       "      <td>Unknown</td>\n",
       "      <td>нет оценки</td>\n",
       "      <td>нет оценки</td>\n",
       "    </tr>\n",
       "    <tr>\n",
       "      <th>16950</th>\n",
       "      <td>SCORE International Baja 1000: The Official Game</td>\n",
       "      <td>PS2</td>\n",
       "      <td>2008</td>\n",
       "      <td>racing</td>\n",
       "      <td>0.00</td>\n",
       "      <td>0.00</td>\n",
       "      <td>0.0</td>\n",
       "      <td>0.0</td>\n",
       "      <td>101</td>\n",
       "      <td>11.0</td>\n",
       "      <td>Unknown</td>\n",
       "      <td>нет оценки</td>\n",
       "      <td>нет оценки</td>\n",
       "    </tr>\n",
       "    <tr>\n",
       "      <th>16952</th>\n",
       "      <td>LMA Manager 2007</td>\n",
       "      <td>X360</td>\n",
       "      <td>2006</td>\n",
       "      <td>sports</td>\n",
       "      <td>0.00</td>\n",
       "      <td>0.01</td>\n",
       "      <td>0.0</td>\n",
       "      <td>0.0</td>\n",
       "      <td>101</td>\n",
       "      <td>11.0</td>\n",
       "      <td>Unknown</td>\n",
       "      <td>нет оценки</td>\n",
       "      <td>нет оценки</td>\n",
       "    </tr>\n",
       "    <tr>\n",
       "      <th>16954</th>\n",
       "      <td>Spirits &amp; Spells</td>\n",
       "      <td>GBA</td>\n",
       "      <td>2003</td>\n",
       "      <td>platform</td>\n",
       "      <td>0.01</td>\n",
       "      <td>0.00</td>\n",
       "      <td>0.0</td>\n",
       "      <td>0.0</td>\n",
       "      <td>101</td>\n",
       "      <td>11.0</td>\n",
       "      <td>Unknown</td>\n",
       "      <td>нет оценки</td>\n",
       "      <td>нет оценки</td>\n",
       "    </tr>\n",
       "  </tbody>\n",
       "</table>\n",
       "</div>"
      ],
      "text/plain": [
       "                                                   name platform  \\\n",
       "16947                     Men in Black II: Alien Escape       GC   \n",
       "16949                Woody Woodpecker in Crazy Castle 5      GBA   \n",
       "16950  SCORE International Baja 1000: The Official Game      PS2   \n",
       "16952                                  LMA Manager 2007     X360   \n",
       "16954                                  Spirits & Spells      GBA   \n",
       "\n",
       "       year_of_release     genre  na_sales  eu_sales  jp_sales  other_sales  \\\n",
       "16947             2003   shooter      0.01      0.00       0.0          0.0   \n",
       "16949             2002  platform      0.01      0.00       0.0          0.0   \n",
       "16950             2008    racing      0.00      0.00       0.0          0.0   \n",
       "16952             2006    sports      0.00      0.01       0.0          0.0   \n",
       "16954             2003  platform      0.01      0.00       0.0          0.0   \n",
       "\n",
       "       critic_score  user_score   rating user_score_category  \\\n",
       "16947           101        11.0        T          нет оценки   \n",
       "16949           101        11.0  Unknown          нет оценки   \n",
       "16950           101        11.0  Unknown          нет оценки   \n",
       "16952           101        11.0  Unknown          нет оценки   \n",
       "16954           101        11.0  Unknown          нет оценки   \n",
       "\n",
       "      critic_score_category  \n",
       "16947            нет оценки  \n",
       "16949            нет оценки  \n",
       "16950            нет оценки  \n",
       "16952            нет оценки  \n",
       "16954            нет оценки  "
      ]
     },
     "execution_count": 164,
     "metadata": {},
     "output_type": "execute_result"
    }
   ],
   "source": [
    "df_fin.tail()"
   ]
  },
  {
   "cell_type": "markdown",
   "id": "9fb45416",
   "metadata": {},
   "source": [
    "Категории успешно присвоены"
   ]
  },
  {
   "cell_type": "markdown",
   "id": "olkTlTlAUDR9",
   "metadata": {
    "id": "olkTlTlAUDR9"
   },
   "source": [
    "- После категоризации данных проверим результат: сгруппируем данные по выделенным категориям и посчитаем количество игр в каждой категории."
   ]
  },
  {
   "cell_type": "code",
   "execution_count": 166,
   "id": "HW0Nsp-4UMSL",
   "metadata": {
    "id": "HW0Nsp-4UMSL"
   },
   "outputs": [
    {
     "data": {
      "text/html": [
       "<div>\n",
       "<style scoped>\n",
       "    .dataframe tbody tr th:only-of-type {\n",
       "        vertical-align: middle;\n",
       "    }\n",
       "\n",
       "    .dataframe tbody tr th {\n",
       "        vertical-align: top;\n",
       "    }\n",
       "\n",
       "    .dataframe thead th {\n",
       "        text-align: right;\n",
       "    }\n",
       "</style>\n",
       "<table border=\"1\" class=\"dataframe\">\n",
       "  <thead>\n",
       "    <tr style=\"text-align: right;\">\n",
       "      <th></th>\n",
       "      <th>name</th>\n",
       "      <th>platform</th>\n",
       "      <th>year_of_release</th>\n",
       "      <th>genre</th>\n",
       "      <th>na_sales</th>\n",
       "      <th>eu_sales</th>\n",
       "      <th>jp_sales</th>\n",
       "      <th>other_sales</th>\n",
       "      <th>critic_score</th>\n",
       "      <th>user_score</th>\n",
       "      <th>rating</th>\n",
       "      <th>critic_score_category</th>\n",
       "    </tr>\n",
       "    <tr>\n",
       "      <th>user_score_category</th>\n",
       "      <th></th>\n",
       "      <th></th>\n",
       "      <th></th>\n",
       "      <th></th>\n",
       "      <th></th>\n",
       "      <th></th>\n",
       "      <th></th>\n",
       "      <th></th>\n",
       "      <th></th>\n",
       "      <th></th>\n",
       "      <th></th>\n",
       "      <th></th>\n",
       "    </tr>\n",
       "  </thead>\n",
       "  <tbody>\n",
       "    <tr>\n",
       "      <th>низкая оценка</th>\n",
       "      <td>116</td>\n",
       "      <td>116</td>\n",
       "      <td>116</td>\n",
       "      <td>116</td>\n",
       "      <td>116</td>\n",
       "      <td>116</td>\n",
       "      <td>116</td>\n",
       "      <td>116</td>\n",
       "      <td>116</td>\n",
       "      <td>116</td>\n",
       "      <td>116</td>\n",
       "      <td>116</td>\n",
       "    </tr>\n",
       "    <tr>\n",
       "      <th>средняя оценка</th>\n",
       "      <td>4081</td>\n",
       "      <td>4081</td>\n",
       "      <td>4081</td>\n",
       "      <td>4081</td>\n",
       "      <td>4081</td>\n",
       "      <td>4081</td>\n",
       "      <td>4081</td>\n",
       "      <td>4081</td>\n",
       "      <td>4081</td>\n",
       "      <td>4081</td>\n",
       "      <td>4081</td>\n",
       "      <td>4081</td>\n",
       "    </tr>\n",
       "    <tr>\n",
       "      <th>высокая оценка</th>\n",
       "      <td>2286</td>\n",
       "      <td>2286</td>\n",
       "      <td>2286</td>\n",
       "      <td>2286</td>\n",
       "      <td>2286</td>\n",
       "      <td>2286</td>\n",
       "      <td>2286</td>\n",
       "      <td>2286</td>\n",
       "      <td>2286</td>\n",
       "      <td>2286</td>\n",
       "      <td>2286</td>\n",
       "      <td>2286</td>\n",
       "    </tr>\n",
       "    <tr>\n",
       "      <th>нет оценки</th>\n",
       "      <td>6298</td>\n",
       "      <td>6298</td>\n",
       "      <td>6298</td>\n",
       "      <td>6298</td>\n",
       "      <td>6298</td>\n",
       "      <td>6298</td>\n",
       "      <td>6298</td>\n",
       "      <td>6298</td>\n",
       "      <td>6298</td>\n",
       "      <td>6298</td>\n",
       "      <td>6298</td>\n",
       "      <td>6298</td>\n",
       "    </tr>\n",
       "  </tbody>\n",
       "</table>\n",
       "</div>"
      ],
      "text/plain": [
       "                     name  platform  year_of_release  genre  na_sales  \\\n",
       "user_score_category                                                     \n",
       "низкая оценка         116       116              116    116       116   \n",
       "средняя оценка       4081      4081             4081   4081      4081   \n",
       "высокая оценка       2286      2286             2286   2286      2286   \n",
       "нет оценки           6298      6298             6298   6298      6298   \n",
       "\n",
       "                     eu_sales  jp_sales  other_sales  critic_score  \\\n",
       "user_score_category                                                  \n",
       "низкая оценка             116       116          116           116   \n",
       "средняя оценка           4081      4081         4081          4081   \n",
       "высокая оценка           2286      2286         2286          2286   \n",
       "нет оценки               6298      6298         6298          6298   \n",
       "\n",
       "                     user_score  rating  critic_score_category  \n",
       "user_score_category                                             \n",
       "низкая оценка               116     116                    116  \n",
       "средняя оценка             4081    4081                   4081  \n",
       "высокая оценка             2286    2286                   2286  \n",
       "нет оценки                 6298    6298                   6298  "
      ]
     },
     "execution_count": 166,
     "metadata": {},
     "output_type": "execute_result"
    }
   ],
   "source": [
    "df_fin.groupby('user_score_category').count()"
   ]
  },
  {
   "cell_type": "code",
   "execution_count": 167,
   "id": "x2ne0HIpUMMD",
   "metadata": {
    "id": "x2ne0HIpUMMD"
   },
   "outputs": [
    {
     "data": {
      "text/html": [
       "<div>\n",
       "<style scoped>\n",
       "    .dataframe tbody tr th:only-of-type {\n",
       "        vertical-align: middle;\n",
       "    }\n",
       "\n",
       "    .dataframe tbody tr th {\n",
       "        vertical-align: top;\n",
       "    }\n",
       "\n",
       "    .dataframe thead th {\n",
       "        text-align: right;\n",
       "    }\n",
       "</style>\n",
       "<table border=\"1\" class=\"dataframe\">\n",
       "  <thead>\n",
       "    <tr style=\"text-align: right;\">\n",
       "      <th></th>\n",
       "      <th>name</th>\n",
       "      <th>platform</th>\n",
       "      <th>year_of_release</th>\n",
       "      <th>genre</th>\n",
       "      <th>na_sales</th>\n",
       "      <th>eu_sales</th>\n",
       "      <th>jp_sales</th>\n",
       "      <th>other_sales</th>\n",
       "      <th>critic_score</th>\n",
       "      <th>user_score</th>\n",
       "      <th>rating</th>\n",
       "      <th>user_score_category</th>\n",
       "    </tr>\n",
       "    <tr>\n",
       "      <th>critic_score_category</th>\n",
       "      <th></th>\n",
       "      <th></th>\n",
       "      <th></th>\n",
       "      <th></th>\n",
       "      <th></th>\n",
       "      <th></th>\n",
       "      <th></th>\n",
       "      <th></th>\n",
       "      <th></th>\n",
       "      <th></th>\n",
       "      <th></th>\n",
       "      <th></th>\n",
       "    </tr>\n",
       "  </thead>\n",
       "  <tbody>\n",
       "    <tr>\n",
       "      <th>низкая оценка</th>\n",
       "      <td>55</td>\n",
       "      <td>55</td>\n",
       "      <td>55</td>\n",
       "      <td>55</td>\n",
       "      <td>55</td>\n",
       "      <td>55</td>\n",
       "      <td>55</td>\n",
       "      <td>55</td>\n",
       "      <td>55</td>\n",
       "      <td>55</td>\n",
       "      <td>55</td>\n",
       "      <td>55</td>\n",
       "    </tr>\n",
       "    <tr>\n",
       "      <th>средняя оценка</th>\n",
       "      <td>5422</td>\n",
       "      <td>5422</td>\n",
       "      <td>5422</td>\n",
       "      <td>5422</td>\n",
       "      <td>5422</td>\n",
       "      <td>5422</td>\n",
       "      <td>5422</td>\n",
       "      <td>5422</td>\n",
       "      <td>5422</td>\n",
       "      <td>5422</td>\n",
       "      <td>5422</td>\n",
       "      <td>5422</td>\n",
       "    </tr>\n",
       "    <tr>\n",
       "      <th>высокая оценка</th>\n",
       "      <td>1692</td>\n",
       "      <td>1692</td>\n",
       "      <td>1692</td>\n",
       "      <td>1692</td>\n",
       "      <td>1692</td>\n",
       "      <td>1692</td>\n",
       "      <td>1692</td>\n",
       "      <td>1692</td>\n",
       "      <td>1692</td>\n",
       "      <td>1692</td>\n",
       "      <td>1692</td>\n",
       "      <td>1692</td>\n",
       "    </tr>\n",
       "    <tr>\n",
       "      <th>нет оценки</th>\n",
       "      <td>5612</td>\n",
       "      <td>5612</td>\n",
       "      <td>5612</td>\n",
       "      <td>5612</td>\n",
       "      <td>5612</td>\n",
       "      <td>5612</td>\n",
       "      <td>5612</td>\n",
       "      <td>5612</td>\n",
       "      <td>5612</td>\n",
       "      <td>5612</td>\n",
       "      <td>5612</td>\n",
       "      <td>5612</td>\n",
       "    </tr>\n",
       "  </tbody>\n",
       "</table>\n",
       "</div>"
      ],
      "text/plain": [
       "                       name  platform  year_of_release  genre  na_sales  \\\n",
       "critic_score_category                                                     \n",
       "низкая оценка            55        55               55     55        55   \n",
       "средняя оценка         5422      5422             5422   5422      5422   \n",
       "высокая оценка         1692      1692             1692   1692      1692   \n",
       "нет оценки             5612      5612             5612   5612      5612   \n",
       "\n",
       "                       eu_sales  jp_sales  other_sales  critic_score  \\\n",
       "critic_score_category                                                  \n",
       "низкая оценка                55        55           55            55   \n",
       "средняя оценка             5422      5422         5422          5422   \n",
       "высокая оценка             1692      1692         1692          1692   \n",
       "нет оценки                 5612      5612         5612          5612   \n",
       "\n",
       "                       user_score  rating  user_score_category  \n",
       "critic_score_category                                           \n",
       "низкая оценка                  55      55                   55  \n",
       "средняя оценка               5422    5422                 5422  \n",
       "высокая оценка               1692    1692                 1692  \n",
       "нет оценки                   5612    5612                 5612  "
      ]
     },
     "execution_count": 167,
     "metadata": {},
     "output_type": "execute_result"
    }
   ],
   "source": [
    "df_fin.groupby('critic_score_category').count()"
   ]
  },
  {
   "cell_type": "markdown",
   "id": "6a98444c",
   "metadata": {
    "id": "6a98444c"
   },
   "source": [
    "- Выделим топ-7 платформ по количеству игр, выпущенных за весь актуальный период."
   ]
  },
  {
   "cell_type": "code",
   "execution_count": 168,
   "id": "003caa2c",
   "metadata": {
    "id": "003caa2c"
   },
   "outputs": [
    {
     "name": "stdout",
     "output_type": "stream",
     "text": [
      "PS2     2189\n",
      "DS      2177\n",
      "PS3     1355\n",
      "Wii     1340\n",
      "X360    1281\n",
      "PSP     1229\n",
      "PS      1215\n",
      "Name: platform, dtype: int64\n"
     ]
    }
   ],
   "source": [
    "platform_counts = df['platform'].value_counts() # Подсчитываем количество игр в разрезе платформы\n",
    "top_7_platforms = platform_counts.head(7) # Выводим топ-7 платформ\n",
    "print(top_7_platforms)"
   ]
  },
  {
   "cell_type": "markdown",
   "id": "c0158881",
   "metadata": {
    "id": "c0158881"
   },
   "source": [
    "---\n",
    "\n",
    "## 5. Итоговый вывод\n"
   ]
  },
  {
   "cell_type": "markdown",
   "id": "6a2e891a",
   "metadata": {
    "id": "20175f5b"
   },
   "source": [
    "- в ходе выполнения проекта была проведена предобработка данных посредством выявления, анализа и обработки пропусков и дубликатов. Данные были очищены от 510 строк, что составляет 3% данных. Также была проведена работа по замене типов данных, где это требовалось, и приведения названий столбцов к snake case. \n",
    "- далее была произведена фильтрация для отбора данных за необходимый период 2000-2013гг. Для этого понадобилось создать новый датафрейм `df_actual`, чтобы сохранить исходные данные в первоначальном виде.\n",
    "- была проведена категоризация данных, для чего были созданы новые столбцы `user_score_category`, `critic_score_category`, были подсчитаны значения в разрезе данных категорий.\n",
    "- был выделен топ-7 платформ по количеству игр, выпущенных за актуальный период."
   ]
  },
  {
   "cell_type": "markdown",
   "id": "176588de",
   "metadata": {
    "id": "0c1afc40"
   },
   "source": [
    "В столбцах с оценками критиков и пользователей было много пропусков(почти половина данных), что может быть связано с ранним выходом игры. Почти для всех старых игр в данных столбцах значился пропуск. К сожалению, игры без оценок являются самой большой категорией.<br>\n",
    "В ходе анализа можно заметить, что критики более склонны к усредненным оценкам, они менее категоричны, чем игроки. Игроки более склонны ставить высокий и низкий балл. Но в большинстве своем и критики и пользователи ставят играм среднюю оценку.\n",
    "<br>\n",
    "Также мы получили список 7 самых активных по продажам платформ: PS2, DS, PS3, Wii, X360, PSP, PS.    "
   ]
  }
 ],
 "metadata": {
  "ExecuteTimeLog": [
   {
    "duration": 409,
    "start_time": "2025-04-06T20:11:35.028Z"
   },
   {
    "duration": 79,
    "start_time": "2025-04-06T20:13:50.251Z"
   },
   {
    "duration": 329,
    "start_time": "2025-04-06T20:15:51.831Z"
   },
   {
    "duration": 74,
    "start_time": "2025-04-06T20:21:17.893Z"
   },
   {
    "duration": 76,
    "start_time": "2025-04-06T20:23:02.379Z"
   },
   {
    "duration": 50,
    "start_time": "2025-04-06T20:24:13.975Z"
   },
   {
    "duration": 17,
    "start_time": "2025-04-06T20:29:00.273Z"
   },
   {
    "duration": 21,
    "start_time": "2025-04-06T20:39:56.195Z"
   },
   {
    "duration": 69,
    "start_time": "2025-04-06T21:03:27.435Z"
   },
   {
    "duration": 4,
    "start_time": "2025-04-06T21:05:22.118Z"
   },
   {
    "duration": 11,
    "start_time": "2025-04-06T21:06:36.483Z"
   },
   {
    "duration": 16,
    "start_time": "2025-04-06T21:14:11.416Z"
   },
   {
    "duration": 4,
    "start_time": "2025-04-06T21:18:19.715Z"
   },
   {
    "duration": 3,
    "start_time": "2025-04-06T21:18:23.346Z"
   },
   {
    "duration": 5,
    "start_time": "2025-04-06T21:18:36.855Z"
   },
   {
    "duration": 4,
    "start_time": "2025-04-06T21:56:40.957Z"
   },
   {
    "duration": 4,
    "start_time": "2025-04-06T21:56:57.333Z"
   },
   {
    "duration": 11,
    "start_time": "2025-04-06T22:03:29.752Z"
   },
   {
    "duration": 10,
    "start_time": "2025-04-06T22:05:38.306Z"
   },
   {
    "duration": 4,
    "start_time": "2025-04-06T22:05:41.224Z"
   },
   {
    "duration": 17,
    "start_time": "2025-04-06T22:05:55.994Z"
   },
   {
    "duration": 17,
    "start_time": "2025-04-06T22:06:49.057Z"
   },
   {
    "duration": 14,
    "start_time": "2025-04-06T22:06:56.319Z"
   },
   {
    "duration": 14,
    "start_time": "2025-04-06T22:07:30.565Z"
   },
   {
    "duration": 4,
    "start_time": "2025-04-06T22:15:51.693Z"
   },
   {
    "duration": 5,
    "start_time": "2025-04-06T22:15:54.775Z"
   },
   {
    "duration": 10,
    "start_time": "2025-04-06T22:16:46.003Z"
   },
   {
    "duration": 10,
    "start_time": "2025-04-06T22:18:07.050Z"
   },
   {
    "duration": 12,
    "start_time": "2025-04-06T22:22:28.494Z"
   },
   {
    "duration": 15,
    "start_time": "2025-04-06T22:52:01.834Z"
   },
   {
    "duration": 15,
    "start_time": "2025-04-06T22:52:35.874Z"
   },
   {
    "duration": 14,
    "start_time": "2025-04-06T23:09:54.700Z"
   },
   {
    "duration": 9,
    "start_time": "2025-04-06T23:23:16.243Z"
   },
   {
    "duration": 15,
    "start_time": "2025-04-06T23:23:25.640Z"
   },
   {
    "duration": 79,
    "start_time": "2025-04-06T23:32:49.405Z"
   },
   {
    "duration": 15,
    "start_time": "2025-04-06T23:32:59.551Z"
   },
   {
    "duration": 15,
    "start_time": "2025-04-06T23:33:11.885Z"
   },
   {
    "duration": 14,
    "start_time": "2025-04-06T23:33:35.832Z"
   },
   {
    "duration": 113,
    "start_time": "2025-04-06T23:34:29.563Z"
   },
   {
    "duration": 136,
    "start_time": "2025-04-06T23:37:31.433Z"
   },
   {
    "duration": 14,
    "start_time": "2025-04-06T23:37:44.331Z"
   },
   {
    "duration": 131,
    "start_time": "2025-04-06T23:39:12.781Z"
   },
   {
    "duration": 15,
    "start_time": "2025-04-06T23:47:18.451Z"
   },
   {
    "duration": 6,
    "start_time": "2025-04-06T23:47:43.781Z"
   },
   {
    "duration": 14,
    "start_time": "2025-04-06T23:47:56.638Z"
   },
   {
    "duration": 14,
    "start_time": "2025-04-06T23:48:13.173Z"
   },
   {
    "duration": 14,
    "start_time": "2025-04-06T23:48:32.145Z"
   },
   {
    "duration": 13,
    "start_time": "2025-04-06T23:49:55.968Z"
   },
   {
    "duration": 6,
    "start_time": "2025-04-06T23:50:32.994Z"
   },
   {
    "duration": 16,
    "start_time": "2025-04-06T23:50:38.362Z"
   },
   {
    "duration": 15,
    "start_time": "2025-04-07T00:33:45.272Z"
   },
   {
    "duration": 17,
    "start_time": "2025-04-07T00:34:03.917Z"
   },
   {
    "duration": 6,
    "start_time": "2025-04-07T00:35:43.194Z"
   },
   {
    "duration": 8,
    "start_time": "2025-04-07T00:37:42.204Z"
   },
   {
    "duration": 8,
    "start_time": "2025-04-07T00:38:30.838Z"
   },
   {
    "duration": 9,
    "start_time": "2025-04-07T00:47:08.934Z"
   },
   {
    "duration": 6,
    "start_time": "2025-04-07T00:47:24.618Z"
   },
   {
    "duration": 5,
    "start_time": "2025-04-07T00:47:48.379Z"
   },
   {
    "duration": 15,
    "start_time": "2025-04-07T00:48:27.878Z"
   },
   {
    "duration": 53,
    "start_time": "2025-04-07T00:52:43.912Z"
   },
   {
    "duration": 35,
    "start_time": "2025-04-07T00:57:29.232Z"
   },
   {
    "duration": 109,
    "start_time": "2025-04-07T01:04:58.387Z"
   },
   {
    "duration": 4,
    "start_time": "2025-04-07T01:05:27.357Z"
   },
   {
    "duration": 51,
    "start_time": "2025-04-07T18:04:07.103Z"
   },
   {
    "duration": 6,
    "start_time": "2025-04-07T18:04:19.360Z"
   },
   {
    "duration": 420,
    "start_time": "2025-04-07T18:06:56.522Z"
   },
   {
    "duration": 59,
    "start_time": "2025-04-07T18:06:58.518Z"
   },
   {
    "duration": 17,
    "start_time": "2025-04-07T18:07:04.446Z"
   },
   {
    "duration": 21,
    "start_time": "2025-04-07T18:07:10.806Z"
   },
   {
    "duration": 4,
    "start_time": "2025-04-07T18:07:18.779Z"
   },
   {
    "duration": 4,
    "start_time": "2025-04-07T18:07:23.053Z"
   },
   {
    "duration": 21,
    "start_time": "2025-04-07T18:07:29.935Z"
   },
   {
    "duration": 5,
    "start_time": "2025-04-07T18:07:32.339Z"
   },
   {
    "duration": 15,
    "start_time": "2025-04-07T18:07:34.494Z"
   },
   {
    "duration": 10,
    "start_time": "2025-04-07T18:07:43.516Z"
   },
   {
    "duration": 11,
    "start_time": "2025-04-07T18:07:46.315Z"
   },
   {
    "duration": 11,
    "start_time": "2025-04-07T18:07:59.372Z"
   },
   {
    "duration": 209,
    "start_time": "2025-04-07T18:08:01.340Z"
   },
   {
    "duration": 6,
    "start_time": "2025-04-07T18:08:04.739Z"
   },
   {
    "duration": 22,
    "start_time": "2025-04-07T18:08:06.055Z"
   },
   {
    "duration": 21,
    "start_time": "2025-04-07T18:08:16.646Z"
   },
   {
    "duration": 8,
    "start_time": "2025-04-07T18:08:18.595Z"
   },
   {
    "duration": 14,
    "start_time": "2025-04-07T18:09:22.597Z"
   },
   {
    "duration": 15,
    "start_time": "2025-04-07T18:09:29.900Z"
   },
   {
    "duration": 2,
    "start_time": "2025-04-07T18:09:55.602Z"
   },
   {
    "duration": 57,
    "start_time": "2025-04-07T18:09:56.847Z"
   },
   {
    "duration": 16,
    "start_time": "2025-04-07T18:09:57.899Z"
   },
   {
    "duration": 13,
    "start_time": "2025-04-07T18:10:01.797Z"
   },
   {
    "duration": 4,
    "start_time": "2025-04-07T18:10:49.256Z"
   },
   {
    "duration": 4,
    "start_time": "2025-04-07T18:10:51.255Z"
   },
   {
    "duration": 16,
    "start_time": "2025-04-07T18:11:06.537Z"
   },
   {
    "duration": 3,
    "start_time": "2025-04-07T18:11:37.195Z"
   },
   {
    "duration": 46,
    "start_time": "2025-04-07T18:11:38.843Z"
   },
   {
    "duration": 16,
    "start_time": "2025-04-07T18:11:40.147Z"
   },
   {
    "duration": 14,
    "start_time": "2025-04-07T18:11:41.294Z"
   },
   {
    "duration": 4,
    "start_time": "2025-04-07T18:11:46.591Z"
   },
   {
    "duration": 3,
    "start_time": "2025-04-07T18:11:48.773Z"
   },
   {
    "duration": 21,
    "start_time": "2025-04-07T18:11:52.553Z"
   },
   {
    "duration": 15,
    "start_time": "2025-04-07T18:11:53.771Z"
   },
   {
    "duration": 10,
    "start_time": "2025-04-07T18:11:59.750Z"
   },
   {
    "duration": 11,
    "start_time": "2025-04-07T18:12:01.095Z"
   },
   {
    "duration": 7,
    "start_time": "2025-04-07T18:12:05.384Z"
   },
   {
    "duration": 127,
    "start_time": "2025-04-07T18:12:06.431Z"
   },
   {
    "duration": 5,
    "start_time": "2025-04-07T18:12:08.387Z"
   },
   {
    "duration": 14,
    "start_time": "2025-04-07T18:12:09.504Z"
   },
   {
    "duration": 16,
    "start_time": "2025-04-07T18:12:15.323Z"
   },
   {
    "duration": 8,
    "start_time": "2025-04-07T18:12:16.790Z"
   },
   {
    "duration": 15,
    "start_time": "2025-04-07T18:12:19.841Z"
   },
   {
    "duration": 9,
    "start_time": "2025-04-07T18:12:26.126Z"
   },
   {
    "duration": 5,
    "start_time": "2025-04-07T18:12:27.922Z"
   },
   {
    "duration": 15,
    "start_time": "2025-04-07T18:12:29.935Z"
   },
   {
    "duration": 57,
    "start_time": "2025-04-07T18:12:35.241Z"
   },
   {
    "duration": 35,
    "start_time": "2025-04-07T18:12:40.179Z"
   },
   {
    "duration": 4,
    "start_time": "2025-04-07T18:12:46.481Z"
   },
   {
    "duration": 7,
    "start_time": "2025-04-07T18:14:36.591Z"
   },
   {
    "duration": 14,
    "start_time": "2025-04-07T18:14:54.604Z"
   },
   {
    "duration": 15,
    "start_time": "2025-04-07T18:15:17.116Z"
   },
   {
    "duration": 35,
    "start_time": "2025-04-07T18:37:06.681Z"
   },
   {
    "duration": 8,
    "start_time": "2025-04-07T18:38:32.252Z"
   },
   {
    "duration": 15,
    "start_time": "2025-04-07T18:39:49.916Z"
   },
   {
    "duration": 12,
    "start_time": "2025-04-07T18:44:07.847Z"
   },
   {
    "duration": 387,
    "start_time": "2025-04-08T13:12:16.525Z"
   },
   {
    "duration": 3,
    "start_time": "2025-04-08T13:12:32.303Z"
   },
   {
    "duration": 100,
    "start_time": "2025-04-08T13:12:33.728Z"
   },
   {
    "duration": 17,
    "start_time": "2025-04-08T13:12:34.956Z"
   },
   {
    "duration": 19,
    "start_time": "2025-04-08T13:12:39.757Z"
   },
   {
    "duration": 4,
    "start_time": "2025-04-08T13:12:49.406Z"
   },
   {
    "duration": 3,
    "start_time": "2025-04-08T13:12:50.595Z"
   },
   {
    "duration": 19,
    "start_time": "2025-04-08T13:12:59.907Z"
   },
   {
    "duration": 14,
    "start_time": "2025-04-08T13:13:01.452Z"
   },
   {
    "duration": 10,
    "start_time": "2025-04-08T13:13:22.544Z"
   },
   {
    "duration": 11,
    "start_time": "2025-04-08T13:13:27.011Z"
   },
   {
    "duration": 8,
    "start_time": "2025-04-08T13:13:57.590Z"
   },
   {
    "duration": 123,
    "start_time": "2025-04-08T13:14:06.029Z"
   },
   {
    "duration": 6,
    "start_time": "2025-04-08T13:14:10.573Z"
   },
   {
    "duration": 13,
    "start_time": "2025-04-08T13:14:11.553Z"
   },
   {
    "duration": 4,
    "start_time": "2025-04-08T13:27:37.850Z"
   },
   {
    "duration": 14,
    "start_time": "2025-04-08T13:27:51.287Z"
   },
   {
    "duration": 19,
    "start_time": "2025-04-08T13:29:43.352Z"
   },
   {
    "duration": 7,
    "start_time": "2025-04-08T13:29:45.839Z"
   },
   {
    "duration": 14,
    "start_time": "2025-04-08T13:29:49.958Z"
   },
   {
    "duration": 8,
    "start_time": "2025-04-08T13:29:53.837Z"
   },
   {
    "duration": 5,
    "start_time": "2025-04-08T13:29:56.256Z"
   },
   {
    "duration": 14,
    "start_time": "2025-04-08T13:29:58.670Z"
   },
   {
    "duration": 54,
    "start_time": "2025-04-08T13:30:02.713Z"
   },
   {
    "duration": 32,
    "start_time": "2025-04-08T13:30:06.321Z"
   },
   {
    "duration": 3,
    "start_time": "2025-04-08T13:30:24.269Z"
   },
   {
    "duration": 6,
    "start_time": "2025-04-08T13:30:35.126Z"
   },
   {
    "duration": 13,
    "start_time": "2025-04-08T13:30:35.900Z"
   },
   {
    "duration": 6,
    "start_time": "2025-04-08T13:32:03.182Z"
   },
   {
    "duration": 7,
    "start_time": "2025-04-08T13:34:02.251Z"
   },
   {
    "duration": 4,
    "start_time": "2025-04-08T13:38:00.461Z"
   },
   {
    "duration": 7,
    "start_time": "2025-04-08T13:38:01.645Z"
   },
   {
    "duration": 14,
    "start_time": "2025-04-08T13:38:08.000Z"
   },
   {
    "duration": 5,
    "start_time": "2025-04-08T13:39:26.604Z"
   },
   {
    "duration": 8,
    "start_time": "2025-04-08T13:39:27.563Z"
   },
   {
    "duration": 4,
    "start_time": "2025-04-08T13:39:35.965Z"
   },
   {
    "duration": 6,
    "start_time": "2025-04-08T13:39:37.771Z"
   },
   {
    "duration": 14,
    "start_time": "2025-04-08T13:39:42.492Z"
   },
   {
    "duration": 15,
    "start_time": "2025-04-08T13:39:55.001Z"
   },
   {
    "duration": 45,
    "start_time": "2025-04-08T13:40:36.939Z"
   },
   {
    "duration": 3,
    "start_time": "2025-04-08T13:42:08.164Z"
   },
   {
    "duration": 6,
    "start_time": "2025-04-08T13:42:09.292Z"
   },
   {
    "duration": 15,
    "start_time": "2025-04-08T13:42:14.235Z"
   },
   {
    "duration": 7,
    "start_time": "2025-04-08T13:43:59.714Z"
   },
   {
    "duration": 16,
    "start_time": "2025-04-08T13:44:18.052Z"
   },
   {
    "duration": 7,
    "start_time": "2025-04-08T13:44:27.988Z"
   },
   {
    "duration": 4,
    "start_time": "2025-04-08T13:44:48.046Z"
   },
   {
    "duration": 6,
    "start_time": "2025-04-08T13:44:48.787Z"
   },
   {
    "duration": 15,
    "start_time": "2025-04-08T13:44:50.149Z"
   },
   {
    "duration": 6,
    "start_time": "2025-04-08T13:44:55.746Z"
   },
   {
    "duration": 15,
    "start_time": "2025-04-08T13:44:56.573Z"
   },
   {
    "duration": 16,
    "start_time": "2025-04-08T15:00:43.229Z"
   },
   {
    "duration": 15,
    "start_time": "2025-04-08T15:02:22.282Z"
   },
   {
    "duration": 5,
    "start_time": "2025-04-08T15:12:31.721Z"
   },
   {
    "duration": 6,
    "start_time": "2025-04-08T15:12:56.125Z"
   },
   {
    "duration": 7,
    "start_time": "2025-04-08T15:13:40.645Z"
   },
   {
    "duration": 361,
    "start_time": "2025-04-08T20:28:18.377Z"
   },
   {
    "duration": 118,
    "start_time": "2025-04-08T20:28:18.740Z"
   },
   {
    "duration": 16,
    "start_time": "2025-04-08T20:28:18.860Z"
   },
   {
    "duration": 23,
    "start_time": "2025-04-08T20:28:18.877Z"
   },
   {
    "duration": 3,
    "start_time": "2025-04-08T20:28:18.903Z"
   },
   {
    "duration": 14,
    "start_time": "2025-04-08T20:28:18.908Z"
   },
   {
    "duration": 26,
    "start_time": "2025-04-08T20:28:18.924Z"
   },
   {
    "duration": 15,
    "start_time": "2025-04-08T20:28:18.951Z"
   },
   {
    "duration": 9,
    "start_time": "2025-04-08T20:28:18.967Z"
   },
   {
    "duration": 9,
    "start_time": "2025-04-08T20:28:18.978Z"
   },
   {
    "duration": 7,
    "start_time": "2025-04-08T20:28:18.989Z"
   },
   {
    "duration": 145,
    "start_time": "2025-04-08T20:28:18.998Z"
   },
   {
    "duration": 5,
    "start_time": "2025-04-08T20:28:19.144Z"
   },
   {
    "duration": 13,
    "start_time": "2025-04-08T20:28:19.152Z"
   },
   {
    "duration": 4,
    "start_time": "2025-04-08T20:28:19.166Z"
   },
   {
    "duration": 14,
    "start_time": "2025-04-08T20:28:19.171Z"
   },
   {
    "duration": 15,
    "start_time": "2025-04-08T20:28:19.186Z"
   },
   {
    "duration": 69,
    "start_time": "2025-04-08T20:28:19.203Z"
   },
   {
    "duration": 13,
    "start_time": "2025-04-08T20:28:19.273Z"
   },
   {
    "duration": 8,
    "start_time": "2025-04-08T20:28:19.288Z"
   },
   {
    "duration": 4,
    "start_time": "2025-04-08T20:28:19.298Z"
   },
   {
    "duration": 44,
    "start_time": "2025-04-08T20:28:19.304Z"
   },
   {
    "duration": 47,
    "start_time": "2025-04-08T20:28:19.350Z"
   },
   {
    "duration": 41,
    "start_time": "2025-04-08T20:28:19.399Z"
   },
   {
    "duration": 4,
    "start_time": "2025-04-08T20:28:19.441Z"
   },
   {
    "duration": 5,
    "start_time": "2025-04-08T20:28:19.446Z"
   },
   {
    "duration": 15,
    "start_time": "2025-04-08T20:28:19.452Z"
   },
   {
    "duration": 4,
    "start_time": "2025-04-08T20:28:19.468Z"
   },
   {
    "duration": 6,
    "start_time": "2025-04-08T20:28:19.473Z"
   },
   {
    "duration": 5,
    "start_time": "2025-04-08T20:28:19.480Z"
   },
   {
    "duration": 49,
    "start_time": "2025-04-08T20:28:19.487Z"
   },
   {
    "duration": 15,
    "start_time": "2025-04-08T20:28:19.538Z"
   },
   {
    "duration": 13,
    "start_time": "2025-04-08T20:28:19.554Z"
   },
   {
    "duration": 5,
    "start_time": "2025-04-08T20:28:19.569Z"
   },
   {
    "duration": 76,
    "start_time": "2025-04-08T20:32:43.679Z"
   },
   {
    "duration": 15,
    "start_time": "2025-04-08T20:33:24.850Z"
   },
   {
    "duration": 6,
    "start_time": "2025-04-08T20:38:04.671Z"
   },
   {
    "duration": 15,
    "start_time": "2025-04-08T20:38:10.389Z"
   },
   {
    "duration": 408,
    "start_time": "2025-04-10T13:52:01.772Z"
   },
   {
    "duration": 81,
    "start_time": "2025-04-10T13:52:02.676Z"
   },
   {
    "duration": 15,
    "start_time": "2025-04-10T13:52:05.938Z"
   },
   {
    "duration": 18,
    "start_time": "2025-04-10T13:52:10.884Z"
   },
   {
    "duration": 4,
    "start_time": "2025-04-10T13:52:24.844Z"
   },
   {
    "duration": 9,
    "start_time": "2025-04-10T13:52:27.862Z"
   },
   {
    "duration": 80,
    "start_time": "2025-04-10T14:02:13.078Z"
   },
   {
    "duration": 23,
    "start_time": "2025-04-10T14:04:44.524Z"
   },
   {
    "duration": 25,
    "start_time": "2025-04-10T14:07:07.935Z"
   },
   {
    "duration": 7,
    "start_time": "2025-04-10T14:07:41.527Z"
   },
   {
    "duration": 9,
    "start_time": "2025-04-10T14:07:56.192Z"
   },
   {
    "duration": 16,
    "start_time": "2025-04-10T14:08:10.538Z"
   },
   {
    "duration": 18,
    "start_time": "2025-04-10T14:08:33.960Z"
   },
   {
    "duration": 9,
    "start_time": "2025-04-10T14:11:34.289Z"
   },
   {
    "duration": 8,
    "start_time": "2025-04-10T14:23:36.586Z"
   },
   {
    "duration": 119,
    "start_time": "2025-04-10T14:23:42.486Z"
   },
   {
    "duration": 7,
    "start_time": "2025-04-10T14:25:39.976Z"
   },
   {
    "duration": 8,
    "start_time": "2025-04-10T14:27:21.670Z"
   },
   {
    "duration": 11,
    "start_time": "2025-04-10T14:27:23.574Z"
   },
   {
    "duration": 48,
    "start_time": "2025-04-10T21:53:45.877Z"
   },
   {
    "duration": 394,
    "start_time": "2025-04-10T21:54:30.075Z"
   },
   {
    "duration": 56,
    "start_time": "2025-04-10T21:54:30.976Z"
   },
   {
    "duration": 16,
    "start_time": "2025-04-10T21:54:32.116Z"
   },
   {
    "duration": 19,
    "start_time": "2025-04-10T21:54:33.488Z"
   },
   {
    "duration": 4,
    "start_time": "2025-04-10T21:54:39.499Z"
   },
   {
    "duration": 4,
    "start_time": "2025-04-10T21:54:40.795Z"
   },
   {
    "duration": 20,
    "start_time": "2025-04-10T21:55:13.363Z"
   },
   {
    "duration": 16,
    "start_time": "2025-04-10T21:55:18.732Z"
   },
   {
    "duration": 14,
    "start_time": "2025-04-10T21:55:32.522Z"
   },
   {
    "duration": 10,
    "start_time": "2025-04-10T21:55:56.930Z"
   },
   {
    "duration": 11,
    "start_time": "2025-04-10T21:56:00.131Z"
   },
   {
    "duration": 8,
    "start_time": "2025-04-10T21:56:17.642Z"
   },
   {
    "duration": 118,
    "start_time": "2025-04-10T21:56:20.324Z"
   },
   {
    "duration": 6,
    "start_time": "2025-04-10T21:56:22.266Z"
   },
   {
    "duration": 4,
    "start_time": "2025-04-10T21:56:23.764Z"
   },
   {
    "duration": 15,
    "start_time": "2025-04-10T21:56:25.438Z"
   },
   {
    "duration": 13,
    "start_time": "2025-04-10T21:56:31.874Z"
   },
   {
    "duration": 15,
    "start_time": "2025-04-10T21:56:56.387Z"
   },
   {
    "duration": 9,
    "start_time": "2025-04-10T21:56:59.420Z"
   },
   {
    "duration": 13,
    "start_time": "2025-04-10T21:57:21.998Z"
   },
   {
    "duration": 9,
    "start_time": "2025-04-10T21:58:18.861Z"
   },
   {
    "duration": 4,
    "start_time": "2025-04-10T21:58:21.300Z"
   },
   {
    "duration": 15,
    "start_time": "2025-04-10T21:58:24.410Z"
   },
   {
    "duration": 52,
    "start_time": "2025-04-10T21:58:55.726Z"
   },
   {
    "duration": 18,
    "start_time": "2025-04-10T22:00:47.778Z"
   },
   {
    "duration": 16,
    "start_time": "2025-04-10T22:01:57.729Z"
   },
   {
    "duration": 3,
    "start_time": "2025-04-10T22:04:28.861Z"
   },
   {
    "duration": 3,
    "start_time": "2025-04-10T22:05:35.198Z"
   },
   {
    "duration": 44,
    "start_time": "2025-04-10T22:05:35.815Z"
   },
   {
    "duration": 16,
    "start_time": "2025-04-10T22:05:36.873Z"
   },
   {
    "duration": 13,
    "start_time": "2025-04-10T22:05:47.757Z"
   },
   {
    "duration": 4,
    "start_time": "2025-04-10T22:05:54.459Z"
   },
   {
    "duration": 4,
    "start_time": "2025-04-10T22:05:56.046Z"
   },
   {
    "duration": 18,
    "start_time": "2025-04-10T22:06:01.117Z"
   },
   {
    "duration": 16,
    "start_time": "2025-04-10T22:06:04.946Z"
   },
   {
    "duration": 10,
    "start_time": "2025-04-10T22:06:09.123Z"
   },
   {
    "duration": 11,
    "start_time": "2025-04-10T22:06:14.002Z"
   },
   {
    "duration": 7,
    "start_time": "2025-04-10T22:06:20.403Z"
   },
   {
    "duration": 145,
    "start_time": "2025-04-10T22:06:21.179Z"
   },
   {
    "duration": 6,
    "start_time": "2025-04-10T22:06:21.929Z"
   },
   {
    "duration": 4,
    "start_time": "2025-04-10T22:06:22.754Z"
   },
   {
    "duration": 14,
    "start_time": "2025-04-10T22:06:24.365Z"
   },
   {
    "duration": 14,
    "start_time": "2025-04-10T22:06:25.167Z"
   },
   {
    "duration": 15,
    "start_time": "2025-04-10T22:06:45.405Z"
   },
   {
    "duration": 8,
    "start_time": "2025-04-10T22:06:47.444Z"
   },
   {
    "duration": 16,
    "start_time": "2025-04-10T22:06:55.933Z"
   },
   {
    "duration": 9,
    "start_time": "2025-04-10T22:07:17.714Z"
   },
   {
    "duration": 4,
    "start_time": "2025-04-10T22:07:19.415Z"
   },
   {
    "duration": 5,
    "start_time": "2025-04-10T22:07:54.056Z"
   },
   {
    "duration": 16,
    "start_time": "2025-04-10T22:08:09.066Z"
   },
   {
    "duration": 2,
    "start_time": "2025-04-10T22:08:34.344Z"
   },
   {
    "duration": 45,
    "start_time": "2025-04-10T22:08:34.994Z"
   },
   {
    "duration": 15,
    "start_time": "2025-04-10T22:08:35.657Z"
   },
   {
    "duration": 17,
    "start_time": "2025-04-10T22:08:36.325Z"
   },
   {
    "duration": 5,
    "start_time": "2025-04-10T22:08:41.582Z"
   },
   {
    "duration": 4,
    "start_time": "2025-04-10T22:08:42.587Z"
   },
   {
    "duration": 16,
    "start_time": "2025-04-10T22:08:46.556Z"
   },
   {
    "duration": 14,
    "start_time": "2025-04-10T22:08:49.501Z"
   },
   {
    "duration": 11,
    "start_time": "2025-04-10T22:08:54.714Z"
   },
   {
    "duration": 11,
    "start_time": "2025-04-10T22:08:58.494Z"
   },
   {
    "duration": 7,
    "start_time": "2025-04-10T22:09:02.583Z"
   },
   {
    "duration": 120,
    "start_time": "2025-04-10T22:09:03.268Z"
   },
   {
    "duration": 5,
    "start_time": "2025-04-10T22:09:04.061Z"
   },
   {
    "duration": 4,
    "start_time": "2025-04-10T22:09:05.306Z"
   },
   {
    "duration": 13,
    "start_time": "2025-04-10T22:09:06.043Z"
   },
   {
    "duration": 13,
    "start_time": "2025-04-10T22:09:06.981Z"
   },
   {
    "duration": 15,
    "start_time": "2025-04-10T22:09:15.193Z"
   },
   {
    "duration": 9,
    "start_time": "2025-04-10T22:09:17.877Z"
   },
   {
    "duration": 13,
    "start_time": "2025-04-10T22:09:21.293Z"
   },
   {
    "duration": 9,
    "start_time": "2025-04-10T22:10:56.267Z"
   },
   {
    "duration": 5,
    "start_time": "2025-04-10T22:10:59.145Z"
   },
   {
    "duration": 7,
    "start_time": "2025-04-10T22:11:07.301Z"
   },
   {
    "duration": 17,
    "start_time": "2025-04-10T22:11:19.967Z"
   },
   {
    "duration": 55,
    "start_time": "2025-04-10T22:11:51.993Z"
   },
   {
    "duration": 15,
    "start_time": "2025-04-10T22:12:02.020Z"
   },
   {
    "duration": 16,
    "start_time": "2025-04-10T22:12:42.106Z"
   },
   {
    "duration": 4,
    "start_time": "2025-04-10T22:12:56.447Z"
   },
   {
    "duration": 4,
    "start_time": "2025-04-10T22:15:37.310Z"
   },
   {
    "duration": 16,
    "start_time": "2025-04-10T22:16:14.661Z"
   },
   {
    "duration": 3,
    "start_time": "2025-04-10T22:16:18.972Z"
   },
   {
    "duration": 15,
    "start_time": "2025-04-10T22:18:00.088Z"
   },
   {
    "duration": 3,
    "start_time": "2025-04-10T22:18:07.730Z"
   },
   {
    "duration": 40,
    "start_time": "2025-04-10T22:18:44.398Z"
   },
   {
    "duration": 9,
    "start_time": "2025-04-10T22:19:51.614Z"
   },
   {
    "duration": 5,
    "start_time": "2025-04-10T22:19:53.448Z"
   },
   {
    "duration": 15,
    "start_time": "2025-04-10T22:19:54.751Z"
   },
   {
    "duration": 52,
    "start_time": "2025-04-10T22:20:21.916Z"
   },
   {
    "duration": 15,
    "start_time": "2025-04-10T22:20:31.831Z"
   },
   {
    "duration": 3,
    "start_time": "2025-04-10T22:20:39.855Z"
   },
   {
    "duration": 3,
    "start_time": "2025-04-10T22:20:51.728Z"
   },
   {
    "duration": 2,
    "start_time": "2025-04-10T22:21:39.828Z"
   },
   {
    "duration": 44,
    "start_time": "2025-04-10T22:21:40.494Z"
   },
   {
    "duration": 15,
    "start_time": "2025-04-10T22:21:41.257Z"
   },
   {
    "duration": 14,
    "start_time": "2025-04-10T22:21:42.865Z"
   },
   {
    "duration": 4,
    "start_time": "2025-04-10T22:21:48.165Z"
   },
   {
    "duration": 3,
    "start_time": "2025-04-10T22:21:49.255Z"
   },
   {
    "duration": 20,
    "start_time": "2025-04-10T22:21:53.878Z"
   },
   {
    "duration": 15,
    "start_time": "2025-04-10T22:21:58.111Z"
   },
   {
    "duration": 10,
    "start_time": "2025-04-10T22:22:02.896Z"
   },
   {
    "duration": 11,
    "start_time": "2025-04-10T22:22:06.067Z"
   },
   {
    "duration": 4,
    "start_time": "2025-04-10T22:24:23.059Z"
   },
   {
    "duration": 7,
    "start_time": "2025-04-10T22:24:44.848Z"
   },
   {
    "duration": 110,
    "start_time": "2025-04-10T22:25:13.190Z"
   },
   {
    "duration": 5,
    "start_time": "2025-04-10T22:25:26.234Z"
   },
   {
    "duration": 4,
    "start_time": "2025-04-10T22:25:33.689Z"
   },
   {
    "duration": 13,
    "start_time": "2025-04-10T22:25:41.395Z"
   },
   {
    "duration": 14,
    "start_time": "2025-04-10T22:25:45.810Z"
   },
   {
    "duration": 16,
    "start_time": "2025-04-10T22:25:54.615Z"
   },
   {
    "duration": 9,
    "start_time": "2025-04-10T22:26:07.755Z"
   },
   {
    "duration": 13,
    "start_time": "2025-04-10T22:26:30.624Z"
   },
   {
    "duration": 8,
    "start_time": "2025-04-10T22:26:46.109Z"
   },
   {
    "duration": 5,
    "start_time": "2025-04-10T22:26:49.245Z"
   },
   {
    "duration": 15,
    "start_time": "2025-04-10T22:26:51.680Z"
   },
   {
    "duration": 53,
    "start_time": "2025-04-10T22:26:55.735Z"
   },
   {
    "duration": 15,
    "start_time": "2025-04-10T22:27:01.409Z"
   },
   {
    "duration": 4,
    "start_time": "2025-04-10T22:27:05.895Z"
   },
   {
    "duration": 4,
    "start_time": "2025-04-10T22:28:25.290Z"
   },
   {
    "duration": 4,
    "start_time": "2025-04-10T22:28:41.963Z"
   },
   {
    "duration": 4,
    "start_time": "2025-04-10T22:28:56.505Z"
   },
   {
    "duration": 5,
    "start_time": "2025-04-10T22:29:17.435Z"
   },
   {
    "duration": 4,
    "start_time": "2025-04-10T22:29:46.627Z"
   },
   {
    "duration": 6,
    "start_time": "2025-04-10T22:30:48.037Z"
   },
   {
    "duration": 13,
    "start_time": "2025-04-10T22:30:53.180Z"
   },
   {
    "duration": 5,
    "start_time": "2025-04-10T22:31:29.468Z"
   },
   {
    "duration": 34,
    "start_time": "2025-04-10T22:35:20.747Z"
   },
   {
    "duration": 11,
    "start_time": "2025-04-10T22:35:43.619Z"
   },
   {
    "duration": 17,
    "start_time": "2025-04-10T22:39:28.475Z"
   },
   {
    "duration": 6,
    "start_time": "2025-04-10T22:41:55.654Z"
   },
   {
    "duration": 3,
    "start_time": "2025-04-10T22:42:06.955Z"
   },
   {
    "duration": 14,
    "start_time": "2025-04-10T22:42:35.672Z"
   },
   {
    "duration": 2,
    "start_time": "2025-04-10T22:47:04.714Z"
   },
   {
    "duration": 44,
    "start_time": "2025-04-10T22:47:06.115Z"
   },
   {
    "duration": 15,
    "start_time": "2025-04-10T22:47:07.099Z"
   },
   {
    "duration": 13,
    "start_time": "2025-04-10T22:47:26.286Z"
   },
   {
    "duration": 4,
    "start_time": "2025-04-10T22:47:32.007Z"
   },
   {
    "duration": 3,
    "start_time": "2025-04-10T22:47:32.956Z"
   },
   {
    "duration": 28,
    "start_time": "2025-04-10T22:48:31.678Z"
   },
   {
    "duration": 14,
    "start_time": "2025-04-10T22:48:34.954Z"
   },
   {
    "duration": 11,
    "start_time": "2025-04-10T23:04:15.662Z"
   },
   {
    "duration": 11,
    "start_time": "2025-04-10T23:04:16.904Z"
   },
   {
    "duration": 3,
    "start_time": "2025-04-10T23:04:22.459Z"
   },
   {
    "duration": 7,
    "start_time": "2025-04-10T23:04:23.120Z"
   },
   {
    "duration": 117,
    "start_time": "2025-04-10T23:04:25.856Z"
   },
   {
    "duration": 4,
    "start_time": "2025-04-10T23:04:29.328Z"
   },
   {
    "duration": 4,
    "start_time": "2025-04-10T23:04:31.921Z"
   },
   {
    "duration": 13,
    "start_time": "2025-04-10T23:04:32.530Z"
   },
   {
    "duration": 19,
    "start_time": "2025-04-10T23:04:33.085Z"
   },
   {
    "duration": 15,
    "start_time": "2025-04-10T23:04:42.471Z"
   },
   {
    "duration": 10,
    "start_time": "2025-04-10T23:04:43.259Z"
   },
   {
    "duration": 14,
    "start_time": "2025-04-10T23:04:47.490Z"
   },
   {
    "duration": 9,
    "start_time": "2025-04-10T23:04:50.509Z"
   },
   {
    "duration": 5,
    "start_time": "2025-04-10T23:04:52.890Z"
   },
   {
    "duration": 15,
    "start_time": "2025-04-10T23:04:53.113Z"
   },
   {
    "duration": 52,
    "start_time": "2025-04-10T23:04:56.565Z"
   },
   {
    "duration": 15,
    "start_time": "2025-04-10T23:05:01.282Z"
   },
   {
    "duration": 3,
    "start_time": "2025-04-10T23:05:05.675Z"
   },
   {
    "duration": 6,
    "start_time": "2025-04-10T23:05:11.304Z"
   },
   {
    "duration": 14,
    "start_time": "2025-04-10T23:05:15.046Z"
   },
   {
    "duration": 4,
    "start_time": "2025-04-10T23:05:21.611Z"
   },
   {
    "duration": 7,
    "start_time": "2025-04-10T23:06:04.131Z"
   },
   {
    "duration": 6,
    "start_time": "2025-04-10T23:06:11.122Z"
   },
   {
    "duration": 15,
    "start_time": "2025-04-10T23:06:13.497Z"
   },
   {
    "duration": 17,
    "start_time": "2025-04-10T23:06:26.492Z"
   },
   {
    "duration": 15,
    "start_time": "2025-04-10T23:06:51.745Z"
   },
   {
    "duration": 15,
    "start_time": "2025-04-10T23:07:03.641Z"
   },
   {
    "duration": 15,
    "start_time": "2025-04-10T23:07:07.184Z"
   },
   {
    "duration": 7,
    "start_time": "2025-04-10T23:07:17.712Z"
   }
  ],
  "colab": {
   "provenance": []
  },
  "kernelspec": {
   "display_name": "Python 3 (ipykernel)",
   "language": "python",
   "name": "python3"
  },
  "language_info": {
   "codemirror_mode": {
    "name": "ipython",
    "version": 3
   },
   "file_extension": ".py",
   "mimetype": "text/x-python",
   "name": "python",
   "nbconvert_exporter": "python",
   "pygments_lexer": "ipython3",
   "version": "3.9.5"
  },
  "toc": {
   "base_numbering": 1,
   "nav_menu": {},
   "number_sections": true,
   "sideBar": true,
   "skip_h1_title": true,
   "title_cell": "Table of Contents",
   "title_sidebar": "Contents",
   "toc_cell": false,
   "toc_position": {},
   "toc_section_display": true,
   "toc_window_display": false
  }
 },
 "nbformat": 4,
 "nbformat_minor": 5
}
